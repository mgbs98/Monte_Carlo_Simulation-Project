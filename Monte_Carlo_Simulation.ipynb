{
  "nbformat": 4,
  "nbformat_minor": 0,
  "metadata": {
    "colab": {
      "name": "Monte_Carlo_Simulation.ipynb",
      "provenance": [],
      "collapsed_sections": []
    },
    "kernelspec": {
      "name": "python3",
      "display_name": "Python 3"
    },
    "language_info": {
      "name": "python"
    }
  },
  "cells": [
    {
      "cell_type": "markdown",
      "source": [
        "# Monte Carlo Simulation - Project\n",
        "\n",
        "### ***What is the Monte Carlo Simulation?***\n",
        "\n",
        "A Monte Carlo simulation is used to model the probability of different outcomes in a process that cannot easily be predicted due to the intervention of random variables. It is a technique used to understand the impact of risk and uncertainty.\n",
        "\n",
        "A Monte Carlo simulation is used to tackle a range of problems in many fields including investing, business, physics, and engineering.\n",
        "\n",
        "It is also referred to as a multiple probability simulation.\n",
        "\n",
        "\n",
        "Source: https://www.investopedia.com/terms/m/montecarlosimulation.asp#:~:text=Monte%20Carlo%20Simulation%20Steps&text=There%20are%20two%20components%20to,input%2C%20which%20represents%20market%20volatility."
      ],
      "metadata": {
        "id": "ZA0goAQQAksI"
      }
    },
    {
      "cell_type": "code",
      "execution_count": 1,
      "metadata": {
        "colab": {
          "base_uri": "https://localhost:8080/"
        },
        "id": "Y7Ge7Kf4vQH_",
        "outputId": "688141f2-9c5d-41e7-a7db-493d03e0880a"
      },
      "outputs": [
        {
          "output_type": "stream",
          "name": "stdout",
          "text": [
            "\u001b[?25l\r\u001b[K     |█████▏                          | 10 kB 19.4 MB/s eta 0:00:01\r\u001b[K     |██████████▍                     | 20 kB 20.9 MB/s eta 0:00:01\r\u001b[K     |███████████████▋                | 30 kB 18.4 MB/s eta 0:00:01\r\u001b[K     |████████████████████▉           | 40 kB 11.4 MB/s eta 0:00:01\r\u001b[K     |██████████████████████████      | 51 kB 4.5 MB/s eta 0:00:01\r\u001b[K     |███████████████████████████████▎| 61 kB 5.3 MB/s eta 0:00:01\r\u001b[K     |████████████████████████████████| 62 kB 519 kB/s \n",
            "\u001b[?25h"
          ]
        }
      ],
      "source": [
        "!pip install -q yfinance\n",
        "\n",
        "\n",
        "import yfinance as yf\n",
        "\n",
        "import pandas as pd\n",
        "import numpy as np\n",
        "import plotly.express as px\n",
        "import seaborn as sns\n",
        "from scipy import stats"
      ]
    },
    {
      "cell_type": "code",
      "source": [
        "#Sets the stock that we're gonna use to make the Monte Carlo Simulation\n",
        "\n",
        "ac = ['BOVA11.SA']\n",
        "ac"
      ],
      "metadata": {
        "colab": {
          "base_uri": "https://localhost:8080/"
        },
        "id": "g4PFEccgvaIY",
        "outputId": "b38180c4-9429-4de0-f051-09c4369b3d9b"
      },
      "execution_count": 2,
      "outputs": [
        {
          "output_type": "execute_result",
          "data": {
            "text/plain": [
              "['BOVA11.SA']"
            ]
          },
          "metadata": {},
          "execution_count": 2
        }
      ]
    },
    {
      "cell_type": "code",
      "source": [
        "#Downloads the historical price\n",
        "ac_df = pd.DataFrame(yf.download(ac, '2015-01-01')['Close'])\n",
        "ac_df.to_csv('stock.csv')\n",
        "\n",
        "ac_df = pd.read_csv('stock.csv')\n",
        "ac_df"
      ],
      "metadata": {
        "colab": {
          "base_uri": "https://localhost:8080/",
          "height": 441
        },
        "id": "P0gQ6ALkve0l",
        "outputId": "d7a1c382-c107-4cfe-a2ef-75abf3f89345"
      },
      "execution_count": 5,
      "outputs": [
        {
          "output_type": "stream",
          "name": "stdout",
          "text": [
            "\r[*********************100%***********************]  1 of 1 completed\n"
          ]
        },
        {
          "output_type": "execute_result",
          "data": {
            "text/plain": [
              "            Date       Close\n",
              "0     2015-01-02   47.259998\n",
              "1     2015-01-05   46.320000\n",
              "2     2015-01-06   46.580002\n",
              "3     2015-01-07   48.150002\n",
              "4     2015-01-08   48.509998\n",
              "...          ...         ...\n",
              "1887  2022-08-05  102.739998\n",
              "1888  2022-08-08  104.800003\n",
              "1889  2022-08-09  105.050003\n",
              "1890  2022-08-10  106.559998\n",
              "1891  2022-08-11  105.879997\n",
              "\n",
              "[1892 rows x 2 columns]"
            ],
            "text/html": [
              "\n",
              "  <div id=\"df-44e7361d-af90-4f73-ac74-68fe3fbb488e\">\n",
              "    <div class=\"colab-df-container\">\n",
              "      <div>\n",
              "<style scoped>\n",
              "    .dataframe tbody tr th:only-of-type {\n",
              "        vertical-align: middle;\n",
              "    }\n",
              "\n",
              "    .dataframe tbody tr th {\n",
              "        vertical-align: top;\n",
              "    }\n",
              "\n",
              "    .dataframe thead th {\n",
              "        text-align: right;\n",
              "    }\n",
              "</style>\n",
              "<table border=\"1\" class=\"dataframe\">\n",
              "  <thead>\n",
              "    <tr style=\"text-align: right;\">\n",
              "      <th></th>\n",
              "      <th>Date</th>\n",
              "      <th>Close</th>\n",
              "    </tr>\n",
              "  </thead>\n",
              "  <tbody>\n",
              "    <tr>\n",
              "      <th>0</th>\n",
              "      <td>2015-01-02</td>\n",
              "      <td>47.259998</td>\n",
              "    </tr>\n",
              "    <tr>\n",
              "      <th>1</th>\n",
              "      <td>2015-01-05</td>\n",
              "      <td>46.320000</td>\n",
              "    </tr>\n",
              "    <tr>\n",
              "      <th>2</th>\n",
              "      <td>2015-01-06</td>\n",
              "      <td>46.580002</td>\n",
              "    </tr>\n",
              "    <tr>\n",
              "      <th>3</th>\n",
              "      <td>2015-01-07</td>\n",
              "      <td>48.150002</td>\n",
              "    </tr>\n",
              "    <tr>\n",
              "      <th>4</th>\n",
              "      <td>2015-01-08</td>\n",
              "      <td>48.509998</td>\n",
              "    </tr>\n",
              "    <tr>\n",
              "      <th>...</th>\n",
              "      <td>...</td>\n",
              "      <td>...</td>\n",
              "    </tr>\n",
              "    <tr>\n",
              "      <th>1887</th>\n",
              "      <td>2022-08-05</td>\n",
              "      <td>102.739998</td>\n",
              "    </tr>\n",
              "    <tr>\n",
              "      <th>1888</th>\n",
              "      <td>2022-08-08</td>\n",
              "      <td>104.800003</td>\n",
              "    </tr>\n",
              "    <tr>\n",
              "      <th>1889</th>\n",
              "      <td>2022-08-09</td>\n",
              "      <td>105.050003</td>\n",
              "    </tr>\n",
              "    <tr>\n",
              "      <th>1890</th>\n",
              "      <td>2022-08-10</td>\n",
              "      <td>106.559998</td>\n",
              "    </tr>\n",
              "    <tr>\n",
              "      <th>1891</th>\n",
              "      <td>2022-08-11</td>\n",
              "      <td>105.879997</td>\n",
              "    </tr>\n",
              "  </tbody>\n",
              "</table>\n",
              "<p>1892 rows × 2 columns</p>\n",
              "</div>\n",
              "      <button class=\"colab-df-convert\" onclick=\"convertToInteractive('df-44e7361d-af90-4f73-ac74-68fe3fbb488e')\"\n",
              "              title=\"Convert this dataframe to an interactive table.\"\n",
              "              style=\"display:none;\">\n",
              "        \n",
              "  <svg xmlns=\"http://www.w3.org/2000/svg\" height=\"24px\"viewBox=\"0 0 24 24\"\n",
              "       width=\"24px\">\n",
              "    <path d=\"M0 0h24v24H0V0z\" fill=\"none\"/>\n",
              "    <path d=\"M18.56 5.44l.94 2.06.94-2.06 2.06-.94-2.06-.94-.94-2.06-.94 2.06-2.06.94zm-11 1L8.5 8.5l.94-2.06 2.06-.94-2.06-.94L8.5 2.5l-.94 2.06-2.06.94zm10 10l.94 2.06.94-2.06 2.06-.94-2.06-.94-.94-2.06-.94 2.06-2.06.94z\"/><path d=\"M17.41 7.96l-1.37-1.37c-.4-.4-.92-.59-1.43-.59-.52 0-1.04.2-1.43.59L10.3 9.45l-7.72 7.72c-.78.78-.78 2.05 0 2.83L4 21.41c.39.39.9.59 1.41.59.51 0 1.02-.2 1.41-.59l7.78-7.78 2.81-2.81c.8-.78.8-2.07 0-2.86zM5.41 20L4 18.59l7.72-7.72 1.47 1.35L5.41 20z\"/>\n",
              "  </svg>\n",
              "      </button>\n",
              "      \n",
              "  <style>\n",
              "    .colab-df-container {\n",
              "      display:flex;\n",
              "      flex-wrap:wrap;\n",
              "      gap: 12px;\n",
              "    }\n",
              "\n",
              "    .colab-df-convert {\n",
              "      background-color: #E8F0FE;\n",
              "      border: none;\n",
              "      border-radius: 50%;\n",
              "      cursor: pointer;\n",
              "      display: none;\n",
              "      fill: #1967D2;\n",
              "      height: 32px;\n",
              "      padding: 0 0 0 0;\n",
              "      width: 32px;\n",
              "    }\n",
              "\n",
              "    .colab-df-convert:hover {\n",
              "      background-color: #E2EBFA;\n",
              "      box-shadow: 0px 1px 2px rgba(60, 64, 67, 0.3), 0px 1px 3px 1px rgba(60, 64, 67, 0.15);\n",
              "      fill: #174EA6;\n",
              "    }\n",
              "\n",
              "    [theme=dark] .colab-df-convert {\n",
              "      background-color: #3B4455;\n",
              "      fill: #D2E3FC;\n",
              "    }\n",
              "\n",
              "    [theme=dark] .colab-df-convert:hover {\n",
              "      background-color: #434B5C;\n",
              "      box-shadow: 0px 1px 3px 1px rgba(0, 0, 0, 0.15);\n",
              "      filter: drop-shadow(0px 1px 2px rgba(0, 0, 0, 0.3));\n",
              "      fill: #FFFFFF;\n",
              "    }\n",
              "  </style>\n",
              "\n",
              "      <script>\n",
              "        const buttonEl =\n",
              "          document.querySelector('#df-44e7361d-af90-4f73-ac74-68fe3fbb488e button.colab-df-convert');\n",
              "        buttonEl.style.display =\n",
              "          google.colab.kernel.accessAllowed ? 'block' : 'none';\n",
              "\n",
              "        async function convertToInteractive(key) {\n",
              "          const element = document.querySelector('#df-44e7361d-af90-4f73-ac74-68fe3fbb488e');\n",
              "          const dataTable =\n",
              "            await google.colab.kernel.invokeFunction('convertToInteractive',\n",
              "                                                     [key], {});\n",
              "          if (!dataTable) return;\n",
              "\n",
              "          const docLinkHtml = 'Like what you see? Visit the ' +\n",
              "            '<a target=\"_blank\" href=https://colab.research.google.com/notebooks/data_table.ipynb>data table notebook</a>'\n",
              "            + ' to learn more about interactive tables.';\n",
              "          element.innerHTML = '';\n",
              "          dataTable['output_type'] = 'display_data';\n",
              "          await google.colab.output.renderOutput(dataTable, element);\n",
              "          const docLink = document.createElement('div');\n",
              "          docLink.innerHTML = docLinkHtml;\n",
              "          element.appendChild(docLink);\n",
              "        }\n",
              "      </script>\n",
              "    </div>\n",
              "  </div>\n",
              "  "
            ]
          },
          "metadata": {},
          "execution_count": 5
        }
      ]
    },
    {
      "cell_type": "code",
      "source": [
        "#Drops the 'Date' column\n",
        "ac_df.drop(columns = 'Date', inplace=True)\n",
        "ac_df"
      ],
      "metadata": {
        "colab": {
          "base_uri": "https://localhost:8080/",
          "height": 424
        },
        "id": "8tsgN36axIgT",
        "outputId": "099501e9-c8df-4ca5-fa90-552c4ef98bec"
      },
      "execution_count": 9,
      "outputs": [
        {
          "output_type": "execute_result",
          "data": {
            "text/plain": [
              "           Close\n",
              "0      47.259998\n",
              "1      46.320000\n",
              "2      46.580002\n",
              "3      48.150002\n",
              "4      48.509998\n",
              "...          ...\n",
              "1887  102.739998\n",
              "1888  104.800003\n",
              "1889  105.050003\n",
              "1890  106.559998\n",
              "1891  105.879997\n",
              "\n",
              "[1892 rows x 1 columns]"
            ],
            "text/html": [
              "\n",
              "  <div id=\"df-b3d41660-bdc9-4322-99e7-eb993df65f0d\">\n",
              "    <div class=\"colab-df-container\">\n",
              "      <div>\n",
              "<style scoped>\n",
              "    .dataframe tbody tr th:only-of-type {\n",
              "        vertical-align: middle;\n",
              "    }\n",
              "\n",
              "    .dataframe tbody tr th {\n",
              "        vertical-align: top;\n",
              "    }\n",
              "\n",
              "    .dataframe thead th {\n",
              "        text-align: right;\n",
              "    }\n",
              "</style>\n",
              "<table border=\"1\" class=\"dataframe\">\n",
              "  <thead>\n",
              "    <tr style=\"text-align: right;\">\n",
              "      <th></th>\n",
              "      <th>Close</th>\n",
              "    </tr>\n",
              "  </thead>\n",
              "  <tbody>\n",
              "    <tr>\n",
              "      <th>0</th>\n",
              "      <td>47.259998</td>\n",
              "    </tr>\n",
              "    <tr>\n",
              "      <th>1</th>\n",
              "      <td>46.320000</td>\n",
              "    </tr>\n",
              "    <tr>\n",
              "      <th>2</th>\n",
              "      <td>46.580002</td>\n",
              "    </tr>\n",
              "    <tr>\n",
              "      <th>3</th>\n",
              "      <td>48.150002</td>\n",
              "    </tr>\n",
              "    <tr>\n",
              "      <th>4</th>\n",
              "      <td>48.509998</td>\n",
              "    </tr>\n",
              "    <tr>\n",
              "      <th>...</th>\n",
              "      <td>...</td>\n",
              "    </tr>\n",
              "    <tr>\n",
              "      <th>1887</th>\n",
              "      <td>102.739998</td>\n",
              "    </tr>\n",
              "    <tr>\n",
              "      <th>1888</th>\n",
              "      <td>104.800003</td>\n",
              "    </tr>\n",
              "    <tr>\n",
              "      <th>1889</th>\n",
              "      <td>105.050003</td>\n",
              "    </tr>\n",
              "    <tr>\n",
              "      <th>1890</th>\n",
              "      <td>106.559998</td>\n",
              "    </tr>\n",
              "    <tr>\n",
              "      <th>1891</th>\n",
              "      <td>105.879997</td>\n",
              "    </tr>\n",
              "  </tbody>\n",
              "</table>\n",
              "<p>1892 rows × 1 columns</p>\n",
              "</div>\n",
              "      <button class=\"colab-df-convert\" onclick=\"convertToInteractive('df-b3d41660-bdc9-4322-99e7-eb993df65f0d')\"\n",
              "              title=\"Convert this dataframe to an interactive table.\"\n",
              "              style=\"display:none;\">\n",
              "        \n",
              "  <svg xmlns=\"http://www.w3.org/2000/svg\" height=\"24px\"viewBox=\"0 0 24 24\"\n",
              "       width=\"24px\">\n",
              "    <path d=\"M0 0h24v24H0V0z\" fill=\"none\"/>\n",
              "    <path d=\"M18.56 5.44l.94 2.06.94-2.06 2.06-.94-2.06-.94-.94-2.06-.94 2.06-2.06.94zm-11 1L8.5 8.5l.94-2.06 2.06-.94-2.06-.94L8.5 2.5l-.94 2.06-2.06.94zm10 10l.94 2.06.94-2.06 2.06-.94-2.06-.94-.94-2.06-.94 2.06-2.06.94z\"/><path d=\"M17.41 7.96l-1.37-1.37c-.4-.4-.92-.59-1.43-.59-.52 0-1.04.2-1.43.59L10.3 9.45l-7.72 7.72c-.78.78-.78 2.05 0 2.83L4 21.41c.39.39.9.59 1.41.59.51 0 1.02-.2 1.41-.59l7.78-7.78 2.81-2.81c.8-.78.8-2.07 0-2.86zM5.41 20L4 18.59l7.72-7.72 1.47 1.35L5.41 20z\"/>\n",
              "  </svg>\n",
              "      </button>\n",
              "      \n",
              "  <style>\n",
              "    .colab-df-container {\n",
              "      display:flex;\n",
              "      flex-wrap:wrap;\n",
              "      gap: 12px;\n",
              "    }\n",
              "\n",
              "    .colab-df-convert {\n",
              "      background-color: #E8F0FE;\n",
              "      border: none;\n",
              "      border-radius: 50%;\n",
              "      cursor: pointer;\n",
              "      display: none;\n",
              "      fill: #1967D2;\n",
              "      height: 32px;\n",
              "      padding: 0 0 0 0;\n",
              "      width: 32px;\n",
              "    }\n",
              "\n",
              "    .colab-df-convert:hover {\n",
              "      background-color: #E2EBFA;\n",
              "      box-shadow: 0px 1px 2px rgba(60, 64, 67, 0.3), 0px 1px 3px 1px rgba(60, 64, 67, 0.15);\n",
              "      fill: #174EA6;\n",
              "    }\n",
              "\n",
              "    [theme=dark] .colab-df-convert {\n",
              "      background-color: #3B4455;\n",
              "      fill: #D2E3FC;\n",
              "    }\n",
              "\n",
              "    [theme=dark] .colab-df-convert:hover {\n",
              "      background-color: #434B5C;\n",
              "      box-shadow: 0px 1px 3px 1px rgba(0, 0, 0, 0.15);\n",
              "      filter: drop-shadow(0px 1px 2px rgba(0, 0, 0, 0.3));\n",
              "      fill: #FFFFFF;\n",
              "    }\n",
              "  </style>\n",
              "\n",
              "      <script>\n",
              "        const buttonEl =\n",
              "          document.querySelector('#df-b3d41660-bdc9-4322-99e7-eb993df65f0d button.colab-df-convert');\n",
              "        buttonEl.style.display =\n",
              "          google.colab.kernel.accessAllowed ? 'block' : 'none';\n",
              "\n",
              "        async function convertToInteractive(key) {\n",
              "          const element = document.querySelector('#df-b3d41660-bdc9-4322-99e7-eb993df65f0d');\n",
              "          const dataTable =\n",
              "            await google.colab.kernel.invokeFunction('convertToInteractive',\n",
              "                                                     [key], {});\n",
              "          if (!dataTable) return;\n",
              "\n",
              "          const docLinkHtml = 'Like what you see? Visit the ' +\n",
              "            '<a target=\"_blank\" href=https://colab.research.google.com/notebooks/data_table.ipynb>data table notebook</a>'\n",
              "            + ' to learn more about interactive tables.';\n",
              "          element.innerHTML = '';\n",
              "          dataTable['output_type'] = 'display_data';\n",
              "          await google.colab.output.renderOutput(dataTable, element);\n",
              "          const docLink = document.createElement('div');\n",
              "          docLink.innerHTML = docLinkHtml;\n",
              "          element.appendChild(docLink);\n",
              "        }\n",
              "      </script>\n",
              "    </div>\n",
              "  </div>\n",
              "  "
            ]
          },
          "metadata": {},
          "execution_count": 9
        }
      ]
    },
    {
      "cell_type": "code",
      "source": [
        "#Normalizes the return of the stock\n",
        "ac_df_norm = ac_df.copy()\n",
        "\n",
        "for i in ac_df_norm.columns:\n",
        "  ac_df_norm[i] = ac_df_norm[i] / ac_df_norm[i][0]\n",
        "\n",
        "ac_df_norm"
      ],
      "metadata": {
        "colab": {
          "base_uri": "https://localhost:8080/",
          "height": 424
        },
        "id": "eFiOLUjpxOfv",
        "outputId": "b505fa29-57ef-498b-c28d-950f11c71d8b"
      },
      "execution_count": 11,
      "outputs": [
        {
          "output_type": "execute_result",
          "data": {
            "text/plain": [
              "         Close\n",
              "0     1.000000\n",
              "1     0.980110\n",
              "2     0.985612\n",
              "3     1.018832\n",
              "4     1.026449\n",
              "...        ...\n",
              "1887  2.173931\n",
              "1888  2.217520\n",
              "1889  2.222810\n",
              "1890  2.254761\n",
              "1891  2.240372\n",
              "\n",
              "[1892 rows x 1 columns]"
            ],
            "text/html": [
              "\n",
              "  <div id=\"df-c3fc9c87-7618-49a5-8241-9e7e41339120\">\n",
              "    <div class=\"colab-df-container\">\n",
              "      <div>\n",
              "<style scoped>\n",
              "    .dataframe tbody tr th:only-of-type {\n",
              "        vertical-align: middle;\n",
              "    }\n",
              "\n",
              "    .dataframe tbody tr th {\n",
              "        vertical-align: top;\n",
              "    }\n",
              "\n",
              "    .dataframe thead th {\n",
              "        text-align: right;\n",
              "    }\n",
              "</style>\n",
              "<table border=\"1\" class=\"dataframe\">\n",
              "  <thead>\n",
              "    <tr style=\"text-align: right;\">\n",
              "      <th></th>\n",
              "      <th>Close</th>\n",
              "    </tr>\n",
              "  </thead>\n",
              "  <tbody>\n",
              "    <tr>\n",
              "      <th>0</th>\n",
              "      <td>1.000000</td>\n",
              "    </tr>\n",
              "    <tr>\n",
              "      <th>1</th>\n",
              "      <td>0.980110</td>\n",
              "    </tr>\n",
              "    <tr>\n",
              "      <th>2</th>\n",
              "      <td>0.985612</td>\n",
              "    </tr>\n",
              "    <tr>\n",
              "      <th>3</th>\n",
              "      <td>1.018832</td>\n",
              "    </tr>\n",
              "    <tr>\n",
              "      <th>4</th>\n",
              "      <td>1.026449</td>\n",
              "    </tr>\n",
              "    <tr>\n",
              "      <th>...</th>\n",
              "      <td>...</td>\n",
              "    </tr>\n",
              "    <tr>\n",
              "      <th>1887</th>\n",
              "      <td>2.173931</td>\n",
              "    </tr>\n",
              "    <tr>\n",
              "      <th>1888</th>\n",
              "      <td>2.217520</td>\n",
              "    </tr>\n",
              "    <tr>\n",
              "      <th>1889</th>\n",
              "      <td>2.222810</td>\n",
              "    </tr>\n",
              "    <tr>\n",
              "      <th>1890</th>\n",
              "      <td>2.254761</td>\n",
              "    </tr>\n",
              "    <tr>\n",
              "      <th>1891</th>\n",
              "      <td>2.240372</td>\n",
              "    </tr>\n",
              "  </tbody>\n",
              "</table>\n",
              "<p>1892 rows × 1 columns</p>\n",
              "</div>\n",
              "      <button class=\"colab-df-convert\" onclick=\"convertToInteractive('df-c3fc9c87-7618-49a5-8241-9e7e41339120')\"\n",
              "              title=\"Convert this dataframe to an interactive table.\"\n",
              "              style=\"display:none;\">\n",
              "        \n",
              "  <svg xmlns=\"http://www.w3.org/2000/svg\" height=\"24px\"viewBox=\"0 0 24 24\"\n",
              "       width=\"24px\">\n",
              "    <path d=\"M0 0h24v24H0V0z\" fill=\"none\"/>\n",
              "    <path d=\"M18.56 5.44l.94 2.06.94-2.06 2.06-.94-2.06-.94-.94-2.06-.94 2.06-2.06.94zm-11 1L8.5 8.5l.94-2.06 2.06-.94-2.06-.94L8.5 2.5l-.94 2.06-2.06.94zm10 10l.94 2.06.94-2.06 2.06-.94-2.06-.94-.94-2.06-.94 2.06-2.06.94z\"/><path d=\"M17.41 7.96l-1.37-1.37c-.4-.4-.92-.59-1.43-.59-.52 0-1.04.2-1.43.59L10.3 9.45l-7.72 7.72c-.78.78-.78 2.05 0 2.83L4 21.41c.39.39.9.59 1.41.59.51 0 1.02-.2 1.41-.59l7.78-7.78 2.81-2.81c.8-.78.8-2.07 0-2.86zM5.41 20L4 18.59l7.72-7.72 1.47 1.35L5.41 20z\"/>\n",
              "  </svg>\n",
              "      </button>\n",
              "      \n",
              "  <style>\n",
              "    .colab-df-container {\n",
              "      display:flex;\n",
              "      flex-wrap:wrap;\n",
              "      gap: 12px;\n",
              "    }\n",
              "\n",
              "    .colab-df-convert {\n",
              "      background-color: #E8F0FE;\n",
              "      border: none;\n",
              "      border-radius: 50%;\n",
              "      cursor: pointer;\n",
              "      display: none;\n",
              "      fill: #1967D2;\n",
              "      height: 32px;\n",
              "      padding: 0 0 0 0;\n",
              "      width: 32px;\n",
              "    }\n",
              "\n",
              "    .colab-df-convert:hover {\n",
              "      background-color: #E2EBFA;\n",
              "      box-shadow: 0px 1px 2px rgba(60, 64, 67, 0.3), 0px 1px 3px 1px rgba(60, 64, 67, 0.15);\n",
              "      fill: #174EA6;\n",
              "    }\n",
              "\n",
              "    [theme=dark] .colab-df-convert {\n",
              "      background-color: #3B4455;\n",
              "      fill: #D2E3FC;\n",
              "    }\n",
              "\n",
              "    [theme=dark] .colab-df-convert:hover {\n",
              "      background-color: #434B5C;\n",
              "      box-shadow: 0px 1px 3px 1px rgba(0, 0, 0, 0.15);\n",
              "      filter: drop-shadow(0px 1px 2px rgba(0, 0, 0, 0.3));\n",
              "      fill: #FFFFFF;\n",
              "    }\n",
              "  </style>\n",
              "\n",
              "      <script>\n",
              "        const buttonEl =\n",
              "          document.querySelector('#df-c3fc9c87-7618-49a5-8241-9e7e41339120 button.colab-df-convert');\n",
              "        buttonEl.style.display =\n",
              "          google.colab.kernel.accessAllowed ? 'block' : 'none';\n",
              "\n",
              "        async function convertToInteractive(key) {\n",
              "          const element = document.querySelector('#df-c3fc9c87-7618-49a5-8241-9e7e41339120');\n",
              "          const dataTable =\n",
              "            await google.colab.kernel.invokeFunction('convertToInteractive',\n",
              "                                                     [key], {});\n",
              "          if (!dataTable) return;\n",
              "\n",
              "          const docLinkHtml = 'Like what you see? Visit the ' +\n",
              "            '<a target=\"_blank\" href=https://colab.research.google.com/notebooks/data_table.ipynb>data table notebook</a>'\n",
              "            + ' to learn more about interactive tables.';\n",
              "          element.innerHTML = '';\n",
              "          dataTable['output_type'] = 'display_data';\n",
              "          await google.colab.output.renderOutput(dataTable, element);\n",
              "          const docLink = document.createElement('div');\n",
              "          docLink.innerHTML = docLinkHtml;\n",
              "          element.appendChild(docLink);\n",
              "        }\n",
              "      </script>\n",
              "    </div>\n",
              "  </div>\n",
              "  "
            ]
          },
          "metadata": {},
          "execution_count": 11
        }
      ]
    },
    {
      "cell_type": "code",
      "source": [
        "#Calculates the daily returns of the stock\n",
        "daily_return = np.log(1 + ac_df_norm.pct_change())\n",
        "\n",
        "daily_return.fillna(0, inplace=True)\n",
        "\n",
        "daily_return"
      ],
      "metadata": {
        "colab": {
          "base_uri": "https://localhost:8080/",
          "height": 424
        },
        "id": "sCagurZBxq0D",
        "outputId": "3be22f6b-cf26-4396-ff39-abdfed9742f1"
      },
      "execution_count": 13,
      "outputs": [
        {
          "output_type": "execute_result",
          "data": {
            "text/plain": [
              "         Close\n",
              "0     0.000000\n",
              "1    -0.020090\n",
              "2     0.005597\n",
              "3     0.033150\n",
              "4     0.007449\n",
              "...        ...\n",
              "1887  0.002534\n",
              "1888  0.019852\n",
              "1889  0.002383\n",
              "1890  0.014272\n",
              "1891 -0.006402\n",
              "\n",
              "[1892 rows x 1 columns]"
            ],
            "text/html": [
              "\n",
              "  <div id=\"df-3ea724e3-b01b-4d44-8241-5a1699665142\">\n",
              "    <div class=\"colab-df-container\">\n",
              "      <div>\n",
              "<style scoped>\n",
              "    .dataframe tbody tr th:only-of-type {\n",
              "        vertical-align: middle;\n",
              "    }\n",
              "\n",
              "    .dataframe tbody tr th {\n",
              "        vertical-align: top;\n",
              "    }\n",
              "\n",
              "    .dataframe thead th {\n",
              "        text-align: right;\n",
              "    }\n",
              "</style>\n",
              "<table border=\"1\" class=\"dataframe\">\n",
              "  <thead>\n",
              "    <tr style=\"text-align: right;\">\n",
              "      <th></th>\n",
              "      <th>Close</th>\n",
              "    </tr>\n",
              "  </thead>\n",
              "  <tbody>\n",
              "    <tr>\n",
              "      <th>0</th>\n",
              "      <td>0.000000</td>\n",
              "    </tr>\n",
              "    <tr>\n",
              "      <th>1</th>\n",
              "      <td>-0.020090</td>\n",
              "    </tr>\n",
              "    <tr>\n",
              "      <th>2</th>\n",
              "      <td>0.005597</td>\n",
              "    </tr>\n",
              "    <tr>\n",
              "      <th>3</th>\n",
              "      <td>0.033150</td>\n",
              "    </tr>\n",
              "    <tr>\n",
              "      <th>4</th>\n",
              "      <td>0.007449</td>\n",
              "    </tr>\n",
              "    <tr>\n",
              "      <th>...</th>\n",
              "      <td>...</td>\n",
              "    </tr>\n",
              "    <tr>\n",
              "      <th>1887</th>\n",
              "      <td>0.002534</td>\n",
              "    </tr>\n",
              "    <tr>\n",
              "      <th>1888</th>\n",
              "      <td>0.019852</td>\n",
              "    </tr>\n",
              "    <tr>\n",
              "      <th>1889</th>\n",
              "      <td>0.002383</td>\n",
              "    </tr>\n",
              "    <tr>\n",
              "      <th>1890</th>\n",
              "      <td>0.014272</td>\n",
              "    </tr>\n",
              "    <tr>\n",
              "      <th>1891</th>\n",
              "      <td>-0.006402</td>\n",
              "    </tr>\n",
              "  </tbody>\n",
              "</table>\n",
              "<p>1892 rows × 1 columns</p>\n",
              "</div>\n",
              "      <button class=\"colab-df-convert\" onclick=\"convertToInteractive('df-3ea724e3-b01b-4d44-8241-5a1699665142')\"\n",
              "              title=\"Convert this dataframe to an interactive table.\"\n",
              "              style=\"display:none;\">\n",
              "        \n",
              "  <svg xmlns=\"http://www.w3.org/2000/svg\" height=\"24px\"viewBox=\"0 0 24 24\"\n",
              "       width=\"24px\">\n",
              "    <path d=\"M0 0h24v24H0V0z\" fill=\"none\"/>\n",
              "    <path d=\"M18.56 5.44l.94 2.06.94-2.06 2.06-.94-2.06-.94-.94-2.06-.94 2.06-2.06.94zm-11 1L8.5 8.5l.94-2.06 2.06-.94-2.06-.94L8.5 2.5l-.94 2.06-2.06.94zm10 10l.94 2.06.94-2.06 2.06-.94-2.06-.94-.94-2.06-.94 2.06-2.06.94z\"/><path d=\"M17.41 7.96l-1.37-1.37c-.4-.4-.92-.59-1.43-.59-.52 0-1.04.2-1.43.59L10.3 9.45l-7.72 7.72c-.78.78-.78 2.05 0 2.83L4 21.41c.39.39.9.59 1.41.59.51 0 1.02-.2 1.41-.59l7.78-7.78 2.81-2.81c.8-.78.8-2.07 0-2.86zM5.41 20L4 18.59l7.72-7.72 1.47 1.35L5.41 20z\"/>\n",
              "  </svg>\n",
              "      </button>\n",
              "      \n",
              "  <style>\n",
              "    .colab-df-container {\n",
              "      display:flex;\n",
              "      flex-wrap:wrap;\n",
              "      gap: 12px;\n",
              "    }\n",
              "\n",
              "    .colab-df-convert {\n",
              "      background-color: #E8F0FE;\n",
              "      border: none;\n",
              "      border-radius: 50%;\n",
              "      cursor: pointer;\n",
              "      display: none;\n",
              "      fill: #1967D2;\n",
              "      height: 32px;\n",
              "      padding: 0 0 0 0;\n",
              "      width: 32px;\n",
              "    }\n",
              "\n",
              "    .colab-df-convert:hover {\n",
              "      background-color: #E2EBFA;\n",
              "      box-shadow: 0px 1px 2px rgba(60, 64, 67, 0.3), 0px 1px 3px 1px rgba(60, 64, 67, 0.15);\n",
              "      fill: #174EA6;\n",
              "    }\n",
              "\n",
              "    [theme=dark] .colab-df-convert {\n",
              "      background-color: #3B4455;\n",
              "      fill: #D2E3FC;\n",
              "    }\n",
              "\n",
              "    [theme=dark] .colab-df-convert:hover {\n",
              "      background-color: #434B5C;\n",
              "      box-shadow: 0px 1px 3px 1px rgba(0, 0, 0, 0.15);\n",
              "      filter: drop-shadow(0px 1px 2px rgba(0, 0, 0, 0.3));\n",
              "      fill: #FFFFFF;\n",
              "    }\n",
              "  </style>\n",
              "\n",
              "      <script>\n",
              "        const buttonEl =\n",
              "          document.querySelector('#df-3ea724e3-b01b-4d44-8241-5a1699665142 button.colab-df-convert');\n",
              "        buttonEl.style.display =\n",
              "          google.colab.kernel.accessAllowed ? 'block' : 'none';\n",
              "\n",
              "        async function convertToInteractive(key) {\n",
              "          const element = document.querySelector('#df-3ea724e3-b01b-4d44-8241-5a1699665142');\n",
              "          const dataTable =\n",
              "            await google.colab.kernel.invokeFunction('convertToInteractive',\n",
              "                                                     [key], {});\n",
              "          if (!dataTable) return;\n",
              "\n",
              "          const docLinkHtml = 'Like what you see? Visit the ' +\n",
              "            '<a target=\"_blank\" href=https://colab.research.google.com/notebooks/data_table.ipynb>data table notebook</a>'\n",
              "            + ' to learn more about interactive tables.';\n",
              "          element.innerHTML = '';\n",
              "          dataTable['output_type'] = 'display_data';\n",
              "          await google.colab.output.renderOutput(dataTable, element);\n",
              "          const docLink = document.createElement('div');\n",
              "          docLink.innerHTML = docLinkHtml;\n",
              "          element.appendChild(docLink);\n",
              "        }\n",
              "      </script>\n",
              "    </div>\n",
              "  </div>\n",
              "  "
            ]
          },
          "metadata": {},
          "execution_count": 13
        }
      ]
    },
    {
      "cell_type": "markdown",
      "source": [
        "# Calculating the Drift\n",
        "\n",
        "Drift, is constant directional movement of the simulation"
      ],
      "metadata": {
        "id": "LFQXZdmVyy1T"
      }
    },
    {
      "cell_type": "code",
      "source": [
        "# Calculates the average daily return\n",
        "mean_returns = daily_return.mean()\n",
        "mean_returns"
      ],
      "metadata": {
        "colab": {
          "base_uri": "https://localhost:8080/"
        },
        "id": "3TSevQj9yeGd",
        "outputId": "cc38fee1-5495-4638-ae64-4b8c2b5d6a0f"
      },
      "execution_count": 14,
      "outputs": [
        {
          "output_type": "execute_result",
          "data": {
            "text/plain": [
              "Close    0.000426\n",
              "dtype: float64"
            ]
          },
          "metadata": {},
          "execution_count": 14
        }
      ]
    },
    {
      "cell_type": "code",
      "source": [
        "# Calculates Variance\n",
        "var_returns = daily_return.var()\n",
        "var_returns"
      ],
      "metadata": {
        "colab": {
          "base_uri": "https://localhost:8080/"
        },
        "id": "1c8MzqjPzFWF",
        "outputId": "9197bd03-eea7-480e-e2f5-2a2a200cc695"
      },
      "execution_count": 15,
      "outputs": [
        {
          "output_type": "execute_result",
          "data": {
            "text/plain": [
              "Close    0.000273\n",
              "dtype: float64"
            ]
          },
          "metadata": {},
          "execution_count": 15
        }
      ]
    },
    {
      "cell_type": "code",
      "source": [
        "# Calculates the Standard deviation\n",
        "\n",
        "std_returns = daily_return.std()\n",
        "std_returns"
      ],
      "metadata": {
        "colab": {
          "base_uri": "https://localhost:8080/"
        },
        "id": "OqRBdSLC1O90",
        "outputId": "ed19d70d-acd2-4b83-e1ad-87c94f547977"
      },
      "execution_count": 21,
      "outputs": [
        {
          "output_type": "execute_result",
          "data": {
            "text/plain": [
              "Close    0.016509\n",
              "dtype: float64"
            ]
          },
          "metadata": {},
          "execution_count": 21
        }
      ]
    },
    {
      "cell_type": "code",
      "source": [
        "# Calculates the Drift\n",
        "\n",
        "drift = mean_returns - (0.5 * var_returns)\n",
        "drift"
      ],
      "metadata": {
        "colab": {
          "base_uri": "https://localhost:8080/"
        },
        "id": "pIkC0TOizS79",
        "outputId": "d95f0aca-5fb9-40a7-fcd7-159ab27ada6f"
      },
      "execution_count": 16,
      "outputs": [
        {
          "output_type": "execute_result",
          "data": {
            "text/plain": [
              "Close    0.00029\n",
              "dtype: float64"
            ]
          },
          "metadata": {},
          "execution_count": 16
        }
      ]
    },
    {
      "cell_type": "markdown",
      "source": [
        "# Calculating Daily Returns"
      ],
      "metadata": {
        "id": "Du0AYaU-zpPJ"
      }
    },
    {
      "cell_type": "code",
      "source": [
        "#defines how many days ahead are going to be simulated, and how many simulations are going to be done\n",
        "\n",
        "days_ahead = 246\n",
        "simulations = 10"
      ],
      "metadata": {
        "id": "_hFSwgzkzg6g"
      },
      "execution_count": 17,
      "outputs": []
    },
    {
      "cell_type": "code",
      "source": [
        "# Creates a random matrix with a normal distribution that's going to be used in the calculate the simulation\n",
        "\n",
        "Z = stats.norm.ppf(np.random.rand(days_ahead, simulations))"
      ],
      "metadata": {
        "id": "40AvjcpQz9SC"
      },
      "execution_count": 18,
      "outputs": []
    },
    {
      "cell_type": "code",
      "source": [
        "Z.shape"
      ],
      "metadata": {
        "colab": {
          "base_uri": "https://localhost:8080/"
        },
        "id": "jXeDTvBm0zUJ",
        "outputId": "61dc2b4e-1948-4ed2-af25-20545135b1e8"
      },
      "execution_count": 19,
      "outputs": [
        {
          "output_type": "execute_result",
          "data": {
            "text/plain": [
              "(246, 10)"
            ]
          },
          "metadata": {},
          "execution_count": 19
        }
      ]
    },
    {
      "cell_type": "code",
      "source": [
        "# Calculates a matrix with the 'future' daily variations, based on the past behavior of the stock\n",
        "\n",
        "future_daily_return = np.exp(drift.values + (std_returns.values * Z))"
      ],
      "metadata": {
        "id": "lwAqmbqX04nC"
      },
      "execution_count": 22,
      "outputs": []
    },
    {
      "cell_type": "code",
      "source": [
        "future_daily_return.shape"
      ],
      "metadata": {
        "colab": {
          "base_uri": "https://localhost:8080/"
        },
        "id": "SkXX9D2T1xeM",
        "outputId": "b223e7bc-8750-465e-c998-0c065f4e43f3"
      },
      "execution_count": 23,
      "outputs": [
        {
          "output_type": "execute_result",
          "data": {
            "text/plain": [
              "(246, 10)"
            ]
          },
          "metadata": {},
          "execution_count": 23
        }
      ]
    },
    {
      "cell_type": "markdown",
      "source": [
        "# Predicting future prices"
      ],
      "metadata": {
        "id": "vlFEvuOP17Me"
      }
    },
    {
      "cell_type": "code",
      "source": [
        "# Creates a matrix filled with zeroes with the same shape as the 'future_daily_return' matrix\n",
        "predictions = np.zeros_like(future_daily_return)\n",
        "\n",
        "predictions.shape"
      ],
      "metadata": {
        "colab": {
          "base_uri": "https://localhost:8080/"
        },
        "id": "GRXaZjRK1y4X",
        "outputId": "65b9c25d-b07a-44a0-c341-72901d45b35c"
      },
      "execution_count": 24,
      "outputs": [
        {
          "output_type": "execute_result",
          "data": {
            "text/plain": [
              "(246, 10)"
            ]
          },
          "metadata": {},
          "execution_count": 24
        }
      ]
    },
    {
      "cell_type": "code",
      "source": [
        "# Looks for the last stock price observed in the dataframe\n",
        "\n",
        "ac_df.iloc[-1]"
      ],
      "metadata": {
        "colab": {
          "base_uri": "https://localhost:8080/"
        },
        "id": "D3mGIXaA2gr4",
        "outputId": "997ed4b1-af9c-480d-d78b-3cc64c141759"
      },
      "execution_count": 27,
      "outputs": [
        {
          "output_type": "execute_result",
          "data": {
            "text/plain": [
              "(Close    105.879997\n",
              " Name: 1891, dtype: float64, array([0., 0., 0., 0., 0., 0., 0., 0., 0., 0.]))"
            ]
          },
          "metadata": {},
          "execution_count": 27
        }
      ]
    },
    {
      "cell_type": "code",
      "source": [
        "# Looks for the first array in the predictions matrix\n",
        "\n",
        "predictions[0]"
      ],
      "metadata": {
        "colab": {
          "base_uri": "https://localhost:8080/"
        },
        "id": "YhTdTqBl2rO_",
        "outputId": "d67fa70d-47eb-4a3d-ef28-684a9adbcf5f"
      },
      "execution_count": 28,
      "outputs": [
        {
          "output_type": "execute_result",
          "data": {
            "text/plain": [
              "array([0., 0., 0., 0., 0., 0., 0., 0., 0., 0.])"
            ]
          },
          "metadata": {},
          "execution_count": 28
        }
      ]
    },
    {
      "cell_type": "code",
      "source": [
        "# Sets the first array in the zeroes_like matrix as the last stock price observed.\n",
        "\n",
        "# This is the starting point of the simulation\n",
        "\n",
        "predictions[0] = ac_df.iloc[-1]\n",
        "predictions"
      ],
      "metadata": {
        "colab": {
          "base_uri": "https://localhost:8080/"
        },
        "id": "3kWit_7c3JPN",
        "outputId": "c53582f7-5a82-45ea-d8a4-18a16dfa1004"
      },
      "execution_count": 30,
      "outputs": [
        {
          "output_type": "execute_result",
          "data": {
            "text/plain": [
              "array([[105.87999725, 105.87999725, 105.87999725, ..., 105.87999725,\n",
              "        105.87999725, 105.87999725],\n",
              "       [  0.        ,   0.        ,   0.        , ...,   0.        ,\n",
              "          0.        ,   0.        ],\n",
              "       [  0.        ,   0.        ,   0.        , ...,   0.        ,\n",
              "          0.        ,   0.        ],\n",
              "       ...,\n",
              "       [  0.        ,   0.        ,   0.        , ...,   0.        ,\n",
              "          0.        ,   0.        ],\n",
              "       [  0.        ,   0.        ,   0.        , ...,   0.        ,\n",
              "          0.        ,   0.        ],\n",
              "       [  0.        ,   0.        ,   0.        , ...,   0.        ,\n",
              "          0.        ,   0.        ]])"
            ]
          },
          "metadata": {},
          "execution_count": 30
        }
      ]
    },
    {
      "cell_type": "code",
      "source": [
        "# Calculates the future stock prices, based on the stock price from the day before.\n",
        "\n",
        "# The first prediction is based on the last observed stock price\n",
        "\n",
        "for day in range(1, days_ahead):\n",
        "  predictions[day] = predictions[day - 1] * future_daily_return[day]"
      ],
      "metadata": {
        "id": "AUdxZgeJ3Rzn"
      },
      "execution_count": 32,
      "outputs": []
    },
    {
      "cell_type": "code",
      "source": [
        "predictions.shape"
      ],
      "metadata": {
        "colab": {
          "base_uri": "https://localhost:8080/"
        },
        "id": "DTBTWy5-3r_j",
        "outputId": "20bbcbcc-c288-4fe1-8af2-b4a0247ce180"
      },
      "execution_count": 33,
      "outputs": [
        {
          "output_type": "execute_result",
          "data": {
            "text/plain": [
              "(246, 10)"
            ]
          },
          "metadata": {},
          "execution_count": 33
        }
      ]
    },
    {
      "cell_type": "code",
      "source": [
        "predictions"
      ],
      "metadata": {
        "colab": {
          "base_uri": "https://localhost:8080/"
        },
        "id": "ogRyJ6vE4pQU",
        "outputId": "66e5c5bd-49b0-4a89-d88b-9ce860a54725"
      },
      "execution_count": 34,
      "outputs": [
        {
          "output_type": "execute_result",
          "data": {
            "text/plain": [
              "array([[105.87999725, 105.87999725, 105.87999725, ..., 105.87999725,\n",
              "        105.87999725, 105.87999725],\n",
              "       [107.63502181, 108.4378691 , 105.33423534, ..., 103.40912354,\n",
              "        107.1523384 , 105.81254781],\n",
              "       [109.40766728, 106.33775304, 102.51869747, ..., 103.57243479,\n",
              "        109.43550818, 104.77520416],\n",
              "       ...,\n",
              "       [141.86865222, 118.77559646, 107.50534435, ..., 107.82215088,\n",
              "        107.69701054, 105.44241783],\n",
              "       [142.41411634, 120.00303936, 107.87868673, ..., 107.36343895,\n",
              "        106.0746242 , 103.39214427],\n",
              "       [138.56726872, 118.43368936, 108.99760245, ..., 105.70021721,\n",
              "        104.65031567, 102.46852942]])"
            ]
          },
          "metadata": {},
          "execution_count": 34
        }
      ]
    },
    {
      "cell_type": "markdown",
      "source": [
        "# Plotting"
      ],
      "metadata": {
        "id": "BskAOT3t4v01"
      }
    },
    {
      "cell_type": "code",
      "source": [
        "# Trasposes the array\n",
        "\n",
        "predictions.T"
      ],
      "metadata": {
        "colab": {
          "base_uri": "https://localhost:8080/"
        },
        "id": "8VpsoYqj43SE",
        "outputId": "2f31632f-0064-4be0-f12b-8369d9e0c194"
      },
      "execution_count": 36,
      "outputs": [
        {
          "output_type": "execute_result",
          "data": {
            "text/plain": [
              "array([[105.87999725, 107.63502181, 109.40766728, ..., 141.86865222,\n",
              "        142.41411634, 138.56726872],\n",
              "       [105.87999725, 108.4378691 , 106.33775304, ..., 118.77559646,\n",
              "        120.00303936, 118.43368936],\n",
              "       [105.87999725, 105.33423534, 102.51869747, ..., 107.50534435,\n",
              "        107.87868673, 108.99760245],\n",
              "       ...,\n",
              "       [105.87999725, 103.40912354, 103.57243479, ..., 107.82215088,\n",
              "        107.36343895, 105.70021721],\n",
              "       [105.87999725, 107.1523384 , 109.43550818, ..., 107.69701054,\n",
              "        106.0746242 , 104.65031567],\n",
              "       [105.87999725, 105.81254781, 104.77520416, ..., 105.44241783,\n",
              "        103.39214427, 102.46852942]])"
            ]
          },
          "metadata": {},
          "execution_count": 36
        }
      ]
    },
    {
      "cell_type": "code",
      "source": [
        "# Plots all the simulations made\n",
        "\n",
        "figura = px.line(title = 'Future Stock Prices - Simulations')\n",
        "for i in range(len(predictions.T)):\n",
        "  figura.add_scatter(y = predictions.T[i], name = f'Simulation {i}')\n",
        "\n",
        "figura.show()"
      ],
      "metadata": {
        "colab": {
          "base_uri": "https://localhost:8080/",
          "height": 542
        },
        "id": "B9O9UrJ147Ss",
        "outputId": "3eb26d7d-5fb8-4549-a0aa-d6778938fb91"
      },
      "execution_count": 39,
      "outputs": [
        {
          "output_type": "display_data",
          "data": {
            "text/html": [
              "<html>\n",
              "<head><meta charset=\"utf-8\" /></head>\n",
              "<body>\n",
              "    <div>            <script src=\"https://cdnjs.cloudflare.com/ajax/libs/mathjax/2.7.5/MathJax.js?config=TeX-AMS-MML_SVG\"></script><script type=\"text/javascript\">if (window.MathJax) {MathJax.Hub.Config({SVG: {font: \"STIX-Web\"}});}</script>                <script type=\"text/javascript\">window.PlotlyConfig = {MathJaxConfig: 'local'};</script>\n",
              "        <script src=\"https://cdn.plot.ly/plotly-2.8.3.min.js\"></script>                <div id=\"2d458d1d-306e-43ce-8954-a7112fa3eb4e\" class=\"plotly-graph-div\" style=\"height:525px; width:100%;\"></div>            <script type=\"text/javascript\">                                    window.PLOTLYENV=window.PLOTLYENV || {};                                    if (document.getElementById(\"2d458d1d-306e-43ce-8954-a7112fa3eb4e\")) {                    Plotly.newPlot(                        \"2d458d1d-306e-43ce-8954-a7112fa3eb4e\",                        [{\"name\":\"Simulation 0\",\"y\":[105.87999725341795,107.63502180585401,109.40766728395289,109.11462779401343,108.31903075119169,108.15832232367336,108.1182364986356,107.16109843355576,105.14843728946029,104.70080809257638,104.30649713124355,102.58131363710065,101.91171628166245,105.29176024706697,106.19146284171097,105.9193089193125,107.93595297984182,107.80572334931972,105.42246908200349,103.60199393753257,104.39950414262987,104.92672687625685,105.8173208093398,106.28190436137736,104.80637884860577,105.41225070353073,104.86580333830346,106.41882110103374,108.01332775973168,108.18649927515139,108.0767448734816,107.74005783435297,105.52754938406868,105.7217676003752,101.75683220669036,102.31087523902372,103.01661379739772,104.00080594103913,104.990303508995,106.71290089431152,105.38843792086533,105.2183279710517,107.74617100725997,110.61387471176666,114.44926329310104,114.55435231728809,115.82891584140981,115.17552877148867,116.87374481857485,116.54858252167222,117.15925927089444,117.35704517961024,118.14380114170542,115.42832369384585,114.1591736380748,112.2882939874592,111.11666920478015,110.05558442400579,107.80753334788359,105.1487025898676,104.2947367632147,104.7174173385084,103.2835604584151,106.35733069011692,106.60566032849654,110.83405623136898,110.31990710007581,110.98114519163535,111.24957769110418,111.7277572118216,112.53346640666665,114.52345473885431,116.51919878215372,118.69368673168708,116.24769560681703,116.65080178535217,115.57003340509088,116.6642166291592,116.4434647561227,111.96587025395691,112.29377561180533,113.04441508313951,114.33921581602841,116.81647425090723,117.23198734398612,116.38336814950155,115.83884247970552,116.44421439456508,118.21143249175782,120.62230010048359,121.86989049345195,122.55980695866164,120.92830494616342,119.52915378629247,117.15341364780716,120.1550429994143,123.38300461228452,124.215403096219,124.06504204335947,124.96223759613432,125.39693640043542,131.31621631303886,130.336534589719,130.41155954506576,133.18855105283853,132.37986124315626,132.85316695666066,132.74296759221625,130.19338118323302,127.11236497816529,126.68429130192129,125.16513994000911,125.74241334343778,126.85007055926323,124.22617710799231,125.78498377932145,131.92032995445365,135.1187418865327,134.12535183001557,135.384417904916,138.7226068495689,135.81316048090872,134.26575216973572,131.7969410627613,126.91676149491552,127.61258930039988,126.45523859614751,128.21259388927865,132.30129161594525,129.78481058756395,132.8533889247944,129.35657109813212,130.80683884855108,130.79927063248297,135.00342990870206,135.86648424770124,138.82232014527438,139.88042420859009,137.24841117640298,134.5415114185418,134.26586585422223,131.95914870044535,130.74676405096668,129.00510931244983,131.03630934638156,126.54364994793562,123.58540872714104,123.70676025213545,123.04175931291378,120.871093233915,121.7133098062429,123.33717738155057,122.79929200256119,124.68178187267524,123.10003361541052,124.68568028404151,125.52764036891634,127.90774875011843,129.23184587730893,127.45001154675315,125.67245596124367,129.26192564168238,126.22461425203103,128.01270536516725,126.07228872259483,125.62584082675721,126.09568689738721,129.84316787944735,129.50889229660504,130.33761544899946,128.8193619061475,124.585141018511,126.72227987387019,128.37257260759716,127.30926574553422,123.24825299210946,122.95191831502773,124.87920465068986,121.4833435668279,119.75353094323806,121.53739979606418,123.31554008160482,119.47123328494669,119.76463773005362,120.79367419733613,121.55877708966324,123.57754403578866,120.08280971010097,120.32314483379245,123.09411013449939,121.9602288350909,125.49028898026029,124.12347403973098,126.14846969594439,125.79683502016745,126.08521427876005,127.98174869065383,127.71236293118677,130.83771339914986,129.2363293430374,132.0169138377609,131.67436858008452,131.16157155002426,135.15825666511338,132.0132231730408,130.10495855739603,131.80727676883131,131.17937870993063,130.70561547047592,132.85639654215345,130.97533578647045,130.0344726512141,131.01474919272445,132.59447951823805,136.89950888162258,138.2262080453685,140.26256174474602,140.99860135683693,140.9184338593352,140.94385833638333,138.25434933038702,144.66711308026137,143.55722701928195,146.1733416472463,148.47111571603037,147.81242498123464,149.08597825693786,148.40848847477585,147.91129872581197,145.66281835354292,145.82375530764642,147.18905547893195,147.62939988089323,146.5775798011562,143.7442407215407,144.46501516993308,145.03037937256764,143.77419527765207,142.16691696993857,144.36910254441193,143.74620637881176,140.74118382314958,138.47973502575914,141.86865221808858,142.41411634098873,138.56726871689173],\"type\":\"scatter\"},{\"name\":\"Simulation 1\",\"y\":[105.87999725341795,108.43786909897652,106.33775304217384,107.63333963041859,108.31911231386185,105.6124038872445,108.5318862578847,111.13751489434257,110.6598210350391,108.61810964167151,109.18664925397673,109.02683724543664,108.40942870374143,107.03747944779272,107.45650795388168,104.25700976672414,103.29717513420488,103.65131186183015,107.12861740869762,108.40735339044187,110.56361263609695,111.12264928345748,112.00670193131445,112.21686828634188,114.49178975526485,115.98755864858917,117.76782703290344,117.25825163235025,119.40855951580748,117.91926276074338,118.6413670790413,117.53302052441896,121.12466904487185,119.47631653571983,120.8863027270334,124.45805038426477,123.25830025550118,126.35246715518531,126.35396842800554,126.42903023753105,125.20707966648077,126.93260634541078,124.05999523380126,126.70843928463532,126.79463127945469,128.15071100146778,126.35810331874727,128.01951433640707,125.76193511327543,124.71348846545307,122.80104369429563,119.35437356089344,119.0077543435957,121.1173523608376,120.53477378566481,120.0282367161682,119.75998963173197,117.3645918001024,118.01284006051743,118.43393212320056,120.07805809489872,119.49526005318633,117.96329594712334,117.31851874654839,114.80708812947867,117.06155842115481,120.32443220090646,123.36387555853257,121.39959047731432,121.61933608562092,123.71802415317,121.93210304831472,119.72554559541639,117.46560297885685,117.52593760268925,118.17451534697263,115.10753745735775,116.10826462176978,114.93205599760508,113.62936949839685,113.7464593651882,115.32053727835671,114.92854469506827,116.97290655077498,113.99446495288207,116.15087885766108,117.87717151916945,116.59307536580842,119.9819136286654,121.79468062198639,123.3931521585424,120.31315502265593,121.33451315704575,125.94436538770536,125.40850720237381,125.79098225072877,126.4080719455079,125.61065721867364,128.7222395840402,129.80206287598176,129.23756967409503,129.48550769095857,131.9645399938875,131.26504950273102,130.69272404146193,129.81011705065472,129.7197360920212,128.216035540129,130.65147340698485,129.13675283050887,134.84112079747277,132.97326306179397,133.11153785441581,135.86464705436745,136.24351191333784,134.95811601919385,133.36944616953977,133.68821855934823,132.74390260375503,133.44435157742353,133.13720932905423,133.85633856121711,135.81003840286908,137.6698600815649,137.31666597339046,136.18985669492912,137.72991236703905,136.9638304348969,136.86512727458594,136.8311407910549,135.99285531649153,135.30294605973876,137.61125170322774,139.7227494526742,142.6051728773574,141.93188926073992,139.69173897097667,140.71036546672795,143.83536833234447,143.50370070465212,146.6716056320837,146.8621916269914,146.07275532204198,140.8278946418384,144.72307913305124,147.00964307240685,149.33925767573842,151.47313473174492,146.84125141787976,147.90687655647488,145.92545446292468,142.94527166282913,144.35022910621586,146.15935862972677,144.5655868091552,144.98551185188376,139.3277542252489,139.69040396489407,139.48238297922632,138.6840572110267,135.0676473739465,132.92959019955578,130.81713684255305,131.91735071870815,132.2698138843852,134.99274698332275,135.71861951888542,135.20182950466682,133.5338208832885,131.29263963014142,128.08656055347723,124.87666647786338,125.55776944469098,125.06208533634674,125.71052469018251,123.94696885000585,126.43703468664927,123.98092956119903,123.93826564182525,124.24623395240394,125.18570583192384,125.50766427184169,125.59434328542125,127.43760361582595,127.34364421222554,126.42924698158643,126.90403683464677,125.05853555539024,123.44401734072757,122.4668294986257,124.77706134851647,118.92554648396991,119.85460611007677,121.87204425326782,119.08550021210154,117.3966134705775,117.57694595947738,120.28113916603759,119.88522186446576,118.10800642211959,123.36426169923148,123.60552881419532,125.12092116593334,124.01311280082008,123.92571486096466,125.62980587095605,119.28584273777606,118.9782837590099,118.3495842236943,117.9494367299062,120.47100734660685,120.55402478698603,123.03786887483783,125.3606286239637,124.90416667575205,124.41138934501076,123.08681381655451,120.82399136706783,121.87791580973165,121.81080561367023,125.04625390932053,122.82691757037539,120.68877217073056,121.61796231997778,117.84534777900319,117.4117032774723,117.51650254759771,117.9892489100882,116.78335150724527,112.84112920127717,114.83407443241434,114.10433951516983,113.37229501052944,114.02112090913892,112.97868083035596,115.30417034627499,114.41562821682497,113.34009820129562,113.75965183361191,114.178197681128,118.01322625738547,118.16261658789118,118.4752630873228,118.77559645983831,120.0030393642283,118.43368936139213],\"type\":\"scatter\"},{\"name\":\"Simulation 2\",\"y\":[105.87999725341795,105.3342353371683,102.51869746644194,103.74737260740687,104.51285334082507,101.99435037212668,100.74775333986163,101.36938222212768,101.39139393194084,98.60026322815855,97.74153029019915,95.75770066121632,94.10415441027605,93.37748747442147,95.43694388858086,98.15507261571709,96.39531489685386,96.37264342155594,96.68334704552144,99.64235717337395,99.99514443795606,98.70136052424874,99.47180464889742,99.7422724097755,97.2866077769078,96.61643363319732,95.46500308626204,95.00162727607812,93.55205248514818,95.664409209333,94.78060754014646,95.32049223947705,94.30578061215623,94.33084958406808,94.76246342478,95.59683307556418,94.26750774557948,93.40195227395319,95.42806834837268,94.79913638480141,95.17266657478538,94.75969440646354,94.9136242625049,92.61011937846338,93.62939422551686,92.59689124885739,93.18453484159515,91.28083309231842,91.88641798617692,90.72368516939687,91.35414763680548,91.03458151561162,90.91270813076758,93.65698998869946,90.46353060529638,91.27241018287437,92.95155722352231,91.68500630212546,91.5378588487383,92.28364538458362,93.00761617540388,95.46705642236648,94.46092337304195,96.01134729988885,97.12295259774855,97.43296036345382,97.47559278362338,99.06008388492727,97.54462708733058,98.2096228416815,102.03088662279691,101.27326083480959,100.61702087681846,100.47623772167597,101.9464219296034,101.84651633213642,101.01350254310395,99.09021961565597,102.28391430642777,100.9341072951167,98.63914497705521,96.30427345611665,99.23458687458503,100.34586369659641,103.08809649653078,102.19983182635211,102.05981953631014,100.66507165112094,101.50048401071531,100.56733252889047,97.56081483776397,95.75236119263015,94.42106786045778,94.88497933738662,97.61968773962701,98.88832284605107,99.70991235277651,98.60476653954717,101.19333480678053,100.0905503669297,99.61696427197477,98.6991221642996,102.24716751185073,100.47961413750824,101.43647563485968,100.07388302534692,101.61461469441869,100.30846190551631,103.5627071944412,100.54537934176288,97.7684474637167,98.61754625567058,101.3676409493884,102.62321287901496,98.39301410980309,98.65205049446465,99.81323825469966,101.37886523984633,103.13574535555986,103.12095446967626,103.5864389223817,107.08376631703146,109.34103754504928,107.48725345014498,104.69873370050205,106.08789775987799,107.50365930092495,107.29989755148168,108.85221668491424,107.58661401836828,108.03623527931087,106.29035203417709,105.46549311810497,105.16812301982394,106.10770706091071,106.82369862069304,106.73006087563702,107.71143342183194,107.03370594568186,105.77037434346327,108.21036668261983,108.46600524826898,111.64533115960464,113.81180737903028,114.02308781816693,115.64588769377387,115.51901378296525,115.67580799781405,113.55981221346973,114.15307796753382,113.49064204906615,111.92889684806978,112.608202945139,111.57664325994169,112.71434148422865,114.63481832251286,111.21341997345486,109.38584567393222,110.98556987848198,114.29251615862283,115.23526566480942,114.10070144649514,114.16226587854553,114.93122055142737,113.62587988036691,111.20546893087408,111.17193138070212,111.33161952414927,110.89905907874966,112.38731342753657,114.75010144665433,115.99306892951583,113.07188388099111,110.24006595766686,108.40364756362221,109.18106254152373,108.90922184557125,107.63485975131992,111.30414168903683,109.4403176486255,111.61883589993187,112.78078144109591,114.56425170255511,114.3825286272316,111.85895035156368,113.03633680594675,113.26290490412427,112.04781318404015,113.1848276362207,110.64085105675605,110.3410462124633,111.91541471803579,110.140277927014,110.34633422236384,112.51169736445009,117.1111437014227,118.88961498524593,120.3337568373192,118.23556178760032,117.89899382053443,117.6444583897269,114.90547818556821,113.38754766433682,112.01486758606822,113.70679519627205,111.18549161189138,110.6972509686071,107.75549943298788,109.74762537644347,109.68379138566517,110.61465535576276,108.82331716149291,108.16255250109198,106.99316707251248,105.91392905212041,108.34917957906748,108.28256875326898,105.77816388262731,105.2896686269332,107.08402498695752,104.35112933045974,104.90213505170377,106.40686138432082,105.40877495022453,106.608594807235,106.93830569937396,105.77920423518913,105.7206828241874,105.06953178413382,107.73535290767246,108.1754861364954,107.69715162867601,107.23680009273777,107.28834704764233,104.98197945727517,105.67495652129551,106.43157688308312,105.02577293323631,107.20491811138307,106.24396838570601,105.09158683940974,106.78041518960943,106.57913946794584,107.50534435070459,107.87868672845177,108.99760244918029],\"type\":\"scatter\"},{\"name\":\"Simulation 3\",\"y\":[105.87999725341795,109.31048351797007,110.63759357799091,109.50786312098518,108.33593026636773,106.52229357723444,108.03082686812758,106.372423727689,105.90712531001972,108.67671490215879,107.74216870636776,108.42009039290545,109.90594211070339,107.582074822779,106.55475281158483,106.03687261827358,104.5334613655628,101.88620959283554,105.5529856695376,107.64963104880457,113.0759042313712,112.40618520015892,113.66403954668233,111.22882473692113,110.31048831268957,111.44063755950886,112.4183585414836,110.18177328098005,113.02312955559646,113.23131765390428,111.776635132124,110.19871093799506,107.03701004965994,104.22298905801959,101.96133858237172,100.08425181501585,100.99163332187312,99.2924045465816,99.94257307890517,98.093918196409,97.14047803026735,95.41796438534902,96.4492954474733,95.22806293410173,94.17962179410031,94.09573461009859,94.8851084121693,95.93099102469401,96.1991233624452,97.51505045828318,98.05019500085945,98.33965623724602,99.88930677185213,99.82207858953964,96.27984424999774,97.56330500416587,98.95177722154932,100.90017477891111,100.68819272284821,99.1609688317635,98.36970225025003,99.23146425261918,100.94060848603198,100.50257355269436,99.25755311749947,100.12428727493892,97.24290871373131,96.64460291150809,94.47709515779776,95.17737143047111,94.40790585607057,95.68204729526984,97.47724080911318,97.1336525775927,97.16036653398622,96.87601945701151,96.50860784118233,96.1014565771589,95.4495024814485,95.24772935711276,97.61682650649696,96.15509469620697,95.99490981760945,97.59663307447973,97.31077160626516,98.47091360936905,98.26269954777204,95.29038976256606,94.48616627422194,95.35019238462067,96.87527560802361,97.80427277354845,99.10404824970455,101.4870515181511,100.17514957063283,100.25410583706275,98.35128913009189,97.98684426542245,99.13794617018567,99.75360321975514,98.23595958941277,97.91775792688502,100.83037159743178,97.37632150927571,97.4609810675625,99.99603420307109,101.23077620270713,101.73872574341226,102.69118706774326,102.64123444772797,102.27029015256988,100.2003933741684,99.81585436099945,101.91987457987068,103.1270787128514,105.48480389398372,105.07246394234218,104.50034583277167,104.95530920246732,105.72296334165071,105.5710097702277,106.52343251310666,105.79481615695364,106.90550746979207,109.10412264877417,108.42261189524226,106.11915101372463,105.53781695825502,105.90299701363794,108.41568989127332,107.12039761188942,103.9952543667397,105.48439119751272,104.70311906538305,103.50224924763609,102.33230197299144,102.72174775461401,102.35925509526885,105.55624357622168,103.50436961469659,104.45890208419439,106.30607683288551,105.74383848018451,105.01944288296562,102.83595009257483,105.11833499888368,102.90271448257387,106.49467643272928,106.58189186327735,110.10099708771673,108.43427178091952,107.13155590365234,106.37824582531826,105.04847973849624,103.45957958535985,103.81389216358438,104.41043208571766,106.2520114746944,106.8175689753004,107.09207757868131,105.65838271865736,107.76765478228285,109.58004659462686,111.09995099763141,111.28771042797291,113.18886353812758,114.90256599406099,115.97305683360953,118.64513205505371,119.96345000054781,117.33443734444143,115.48521669479533,115.09548012243393,116.78662920743693,119.42633617558413,120.22880211851134,118.52070009408824,116.45935778592622,117.17309355757874,116.56794409277404,113.82362163106201,115.57409008670417,114.52139885784683,112.82999913560121,117.87752864234075,116.22878006750744,118.04956554308318,118.42735208607641,119.6273324500804,117.83557511993557,119.64630805706966,118.31223554169482,120.06775087353502,120.46804493280796,122.8988114286129,124.2850995852548,129.01639723239168,129.5197634329747,128.74311312284743,130.9680154526233,132.28376931652508,131.7452962678298,130.98468842824357,129.99734894436102,130.29721589226563,126.52258229043785,129.2409063656022,130.42171418406596,129.5534544443899,128.39359579781583,130.1784076341135,132.2618119831981,133.16579459579978,133.4857621093528,131.5599866041141,135.96810898189466,138.6599787892547,137.72096013657605,136.90250751831934,137.42880425070632,139.7069758985248,136.54739134310927,132.7727083417361,133.0310478453159,128.85573072166434,132.71304562120434,133.5907570106915,135.72752319988925,137.26897747895742,135.80575671739652,132.81240034748282,133.93197444137243,131.52888575240587,130.99396752994883,129.93721965698313,131.03810364391776,131.56734299005436,131.5156334289809,128.63456598978797,131.7674679660645,131.56658842712108,132.1037705357505,134.38070708317701,132.92964150750285,133.666380849168,134.591981361387],\"type\":\"scatter\"},{\"name\":\"Simulation 4\",\"y\":[105.87999725341795,106.20689715610511,105.30940902902067,100.56766116735336,98.77205666235501,98.70241207384753,95.44547885776464,93.92188332450479,95.61987176413655,95.60397854604996,97.02671580830359,96.64810300549996,96.76891746191825,94.64427550751132,95.4290683451847,95.97463686901447,94.99993595017871,94.36344313190209,95.28350665634913,98.56726989432542,98.9823226230302,98.19522247352809,98.39089838606276,96.67788136639086,95.75570337823586,95.27877030280736,94.093714600976,93.61644744036683,93.1227116908625,93.05637295896386,92.03326119599673,91.53463313285204,90.98103799924469,92.19622843654481,91.74163922405928,90.14943125740277,93.30988413149933,97.65232071466382,97.02978172773516,97.31462825901298,95.88357643518303,93.49298548407728,90.55891197370549,90.51433205200803,89.88947678221338,93.45973934213687,95.84586408464175,93.11547098703286,95.2784181194522,97.17270851332042,101.45055760661697,101.29396394687745,103.24096281938718,102.96859801010507,104.44464894444593,107.5100034136245,107.06265556017244,109.36705653131787,110.47407867062446,107.39353416759822,109.07202149356434,108.80097522098778,106.29703859489358,108.20981368788308,110.44036101246762,110.14589257647374,108.1854363327587,107.74677986272205,109.31000716550403,107.89186301258817,105.35314867652362,103.41199428480664,103.0181312408413,102.3315433350903,100.53812684770091,100.68881304389602,101.10227257600722,98.05076731226488,98.89338261878498,98.48838566292213,96.86017939932832,96.5585253920574,96.33341463291559,96.11571812726088,95.68138597640103,97.98112523137596,98.77664812673522,98.65233914451753,100.09853957901294,100.03099156542775,100.07197423503408,101.77964666628394,103.02357701633476,100.36244679747277,98.75698192342126,101.59895083360678,102.14444449930618,102.66638579592106,103.78423600474079,105.54587768474394,108.84657614588983,113.76311114075328,116.74623501943941,118.9740045385494,120.0258024875094,120.9413299641963,123.29718929330326,125.18207258312256,122.21293436131789,122.63963652846802,123.78121457339918,123.70305615220002,125.24770219547959,126.99431688722815,123.2481102301143,124.40833136734705,120.03712755100736,119.60903946377785,118.69072743658364,122.68642951746368,119.6008270909999,117.01954520743679,117.21106385229595,117.58028976075425,113.3740274358966,112.14814381717677,108.70406621567884,105.9830459343407,109.308981181099,111.61701883689739,110.87108995037804,111.06730439577152,107.76194876015732,106.22158247901224,108.15389282470485,109.29571079760937,111.21954078219888,113.14530968472423,113.19930489893605,114.00661643794233,117.39433811538586,119.37972896056452,120.25442027854136,121.34279967432981,122.03301434849293,120.79118979038027,121.16599644546714,121.6820369786392,122.41254680947982,120.8234293861646,123.83873161054166,124.71475734363712,123.56022392378142,128.76786522417223,126.6638637146933,126.00089866053922,127.04713564831076,126.11655836670288,128.07570888692712,129.31356226451146,129.35345432962097,128.60467348278368,128.04007375017287,129.07630632747453,126.83327693498626,127.57652317624131,125.49080193599299,128.3839170568205,127.02020306164891,127.79811861191021,129.28444789391023,127.5543169550425,125.09534871938568,124.63591953044563,130.3512927866179,132.63614493551134,129.4736137074748,129.00371994255232,129.24316904819523,132.48459106510592,132.40886927656965,131.25969592046556,128.77877495379684,125.11355609663089,123.33245530314467,121.58574275134494,119.27644185850463,115.42195239090043,116.6988143383869,118.13756565013941,118.56867036133065,117.50176085464877,116.94651642173422,118.658443918359,118.16872521149675,120.14151509268207,120.56047171907177,121.00520551963065,125.50829509220374,126.47708223978995,127.02133601837123,125.46360374966365,127.03265353483863,126.20379177491195,124.71826570149118,121.95397267956238,119.78868438643056,118.06652349635696,116.9450733417426,117.33503582123514,114.52026273778024,112.66092865507864,112.89227398203916,111.87199775438606,112.43103908075469,109.87820511485279,110.25910845461458,111.35115812602187,114.29686634455571,113.0224281504991,116.42165298189097,116.98885835685243,119.25544111832933,115.98800646485127,118.52952560955129,120.4069161709296,122.81864015081437,124.15187743459812,123.32423924309474,124.45640295649015,126.98701105984433,124.72409941352637,124.72548222934499,124.87077329535153,127.40845040373588,127.63048024391252,127.53285342991818,130.3181899938153,132.11390845115434,134.03421800846442,134.04432788040683,132.11455446978007,133.49282836120565,131.18691549705116,131.06700441209773,133.71256118022688],\"type\":\"scatter\"},{\"name\":\"Simulation 5\",\"y\":[105.87999725341795,109.73243529309485,109.44893330535696,109.33817201559313,108.87126733700386,107.40258506878615,107.3007133916141,107.09612088243563,108.02098146236787,109.35536679499789,108.75986806497404,107.20954069797531,106.5923187312171,107.85202515272923,109.38573065940248,110.10813622007373,110.29547319169954,108.25665513821676,110.94344319053988,110.92014691291341,112.03729321904683,114.90804524510722,117.3990558734146,118.61481154824045,117.3480249046299,116.30890088414313,115.10640899257163,114.59450346918685,114.15382577488539,111.48277653190559,110.04171905284039,108.52477069178157,110.16890782250445,112.29343340806774,110.69805933107304,111.34539710765401,107.88998542677494,108.49682409159051,109.04546959143806,111.49228701201667,111.00455708840589,112.72481354547273,112.8941482615508,115.99274603448177,115.19576075605133,116.19936741476147,118.59376642422804,115.39026995067682,113.92530991147314,114.39604355792014,114.05945926306515,113.63291457574442,112.25996158768757,112.53100811222929,114.4234415073626,113.34004231579078,115.55883414203574,112.29638561051675,111.49775611870685,111.65538771729608,110.93537610236372,108.75897423317058,109.82076056039386,109.67693208767822,109.8103537691468,110.12792775930649,110.68512175542197,110.4928298050727,110.72456063154469,109.03807857891032,108.4941865370413,108.70499223022225,108.23360510412593,112.42285615095655,113.7008183787018,115.72411950446036,117.72341455598693,118.85920272722645,117.57659010350254,117.24128430272881,115.13002626778562,117.50432925842262,117.64620050540289,119.17481829147127,116.91707473107206,115.18300704715247,115.3135299627424,114.44319873675447,114.45273560722889,111.6894153134515,111.31325035475788,109.63106972938564,109.49866629763753,109.52032945172488,109.38575235321167,110.33282427697675,107.86640471130187,103.09536731583935,106.06943798341082,105.82317412489972,106.40768769626999,104.3122699502316,102.86190779290416,102.47626243174848,102.19363535210772,106.45232199189499,108.97093771162022,109.22789051039383,112.21623956489273,112.64762465363474,116.63098243855113,117.44257875174408,115.52102577733604,116.20388452093424,113.92983570188485,113.77762629227296,113.15387441057554,111.77892933426128,112.2948304455817,111.98240375678043,111.01194531985857,113.334486606862,110.36219979869819,110.07278267759298,112.6274176053282,113.72701168001527,114.16412915497767,112.68451320756903,114.76101593857248,113.97443764419872,119.42559150925864,115.99887974145612,117.76753807850221,117.97110960061343,117.7339327392943,118.04768033982553,118.6092810500759,118.8669964338346,119.8493867553214,122.37695618051944,124.7607622891815,124.11292760345641,121.55876016560124,121.90444428243423,120.7141117067223,121.9727531161849,122.54954117770173,122.04882284496527,123.37286275261779,120.55182497791033,117.03171314188864,115.53219528767791,116.16175863632886,115.47324733786355,118.18738550783077,120.7088226814109,121.82141331328049,123.48839381573403,121.87465501602766,120.44441742847198,123.89996202476576,123.98781980592075,122.62721243671177,127.11720981845981,132.07573386726494,131.91121071296672,133.64351702513594,134.37720434029993,131.88221646002864,134.96974836239076,135.07797804895404,135.67983785791617,133.8942247546254,131.68358755261147,136.45055194043124,141.3980734384546,140.779556387015,143.75933420535466,139.72628320086778,139.74908013679953,137.38779342074798,135.71626151094063,135.59112471965062,137.25989776681595,135.57883410323623,134.44130760186823,137.26705378975723,137.46265416130126,139.91707263323002,137.91604836192607,137.2121638818586,138.86707017003977,139.73006917833646,140.9147615979158,140.50020832051842,141.6167355389654,143.03761965329136,145.96093798877556,146.76107293544027,148.15153264964388,149.7662103181294,150.59250912018388,147.0689763500121,147.01652037938783,145.20742029090366,142.3913475481148,146.57883540757797,147.43617603713713,145.4951306629723,147.4548671410265,148.39829177217104,145.27607244662173,146.50680547831772,146.73045295633068,142.5412119098636,142.94947704295467,143.89935048947171,143.76812379706297,144.4607629110087,142.4898118991451,143.96693427326315,146.2385047258056,143.78023239424817,138.6740608538408,140.47001509881215,142.31820098098808,136.42978801361437,136.6209670083109,134.4456614872086,131.43455109534256,128.556362546626,129.0092701763271,128.27937807518512,129.47636492072243,127.4766035545814,129.30688100038813,128.22660361410968,127.44983652696868,127.2996222518517,128.64123125571044,129.99225074239533,130.53686883838625,134.20111216928294,137.77908011453007,137.09148042124653,134.94288864642434],\"type\":\"scatter\"},{\"name\":\"Simulation 6\",\"y\":[105.87999725341795,105.9520686916135,107.88399879705246,107.60542954482167,106.95580142411126,107.22427152706534,103.63755262001754,103.88842142980081,104.27775595505172,104.46589942355486,103.2037811083746,103.01449657620974,99.22272424576502,96.39752450639087,95.34646487522534,97.13584477952003,97.14808258983753,94.01169434744487,94.37789171397509,93.32668337925486,92.1923286214741,90.8295047436853,92.40707945783588,94.24075968777588,91.11524482011129,91.80646487730051,92.44029257345709,91.87634813737337,93.16808781348414,94.25915154838644,95.30017991380674,96.79467633692563,94.76748265690581,92.56840533417181,91.06752343767742,93.43231086306517,96.00059762956847,97.3004351039464,98.52968922894937,97.36473134716154,98.51409154586163,98.46761645163204,100.63157031481593,99.92041007532367,102.69629336206532,102.84764527076669,98.5482968974844,99.73380018467876,101.28906334645735,103.88598731918566,103.95749782237208,103.54439121248885,103.63673928129329,105.70615548589109,106.52248582098392,106.10463468630809,107.05648428177649,106.2379071786705,107.76646046745458,109.5623759653526,110.22461048017577,108.58342891771477,108.14472040882444,110.67238596461151,110.23596408145096,109.33905088327947,107.06133696547177,107.0335469203657,107.00597586189238,107.53701824554588,105.30629845108425,106.80437725105324,108.97111684825573,108.40879119293723,108.14142174857972,106.8825724567155,107.09721435331066,109.33255114273757,109.25423960763999,107.51270857606394,108.24142411762702,109.85972949082243,110.15670495917021,110.53913164132113,111.22785720005963,110.66347722421357,113.28468385570952,110.48935364186036,111.18582606579098,109.0629182096354,107.3782469476273,106.66352763708527,106.19730474724184,106.12539287119827,106.15401923372755,107.56029150722958,107.16612350165927,108.81767932593154,107.45184988332677,107.94075234725632,107.02794038366432,106.00404571257289,107.30134094212592,106.11441748325554,104.71135482825942,103.13237598221865,102.83727223597974,100.94569601404729,103.38225930017992,101.95694945168806,103.62085986792404,100.51103933575162,99.81636014040306,100.81077905887986,97.29290396136034,96.87451088040932,97.55386947259535,98.09189686769884,97.01118378152886,96.49798949584749,98.3593482505709,96.70102093095771,95.29868268753174,94.28660638291353,94.4080557794055,92.66897466384562,92.63889456190894,92.0388862732966,92.53478658671185,91.83834385951333,91.70613273522885,92.28187924453795,90.1489433107923,91.87155112823679,92.47432241597308,91.73891817733399,91.25484692491806,90.84744367520248,91.78093901088286,94.5861366953145,92.34680586698364,93.57080164780673,95.4615979535289,95.4965962240844,92.76163901436395,93.18924613968575,93.572663516983,92.43459211269807,94.03524923864912,94.05584877708635,93.04017387586039,93.18524299773432,92.09548869830401,90.79509482259856,91.32111729079874,93.05971089380252,92.61643667941895,92.29908586365153,93.54763078319027,92.76666388063708,93.0749994250298,94.2206916788989,94.52580805348231,95.95581086439667,95.50906615131784,94.10954068863246,96.01186682107681,96.73986635329585,98.98868579031242,97.14678607348297,97.13066498598346,95.59189500638595,97.93574778005417,94.64225247887424,94.62724238366533,93.88493318337684,91.18086055571742,93.21249652199597,90.37661444651712,92.86919031335421,92.47857667448591,91.97531485465026,92.63391778795383,91.32246446187568,88.52819866458934,88.0620831575423,85.72236051463364,85.83877406231275,86.13532563627587,87.85527126700538,88.00786538725863,88.0258127271046,87.29832822084867,87.58824926052763,87.41413713399618,88.92308117850752,90.69824603802756,90.77337780513868,90.79139064786686,91.60272972433938,92.0217423295496,94.67289423814348,93.28052168298065,95.42247567505957,95.54618611763868,94.87458916511599,93.48403057397641,91.12261840503226,92.00964164245156,89.98452872467682,87.67496908835017,87.10309896557393,87.59167741645489,86.50887187702558,86.38863683522705,89.20054057890422,88.47800657712627,90.11814842694912,91.55019083012253,90.773265376139,93.37970764984279,93.30835764660797,95.49067992365637,93.7630279788249,94.98950820517504,92.10654620766606,91.43023690756473,91.28913224406126,91.16819092563196,90.38560282455754,90.47131859646333,89.1476094507027,88.5673671280214,88.72375610619362,89.70032604233782,91.0944063131125,89.95437247232334,89.44306884025379,88.85295236171807,89.41022630985347,89.84592661144617,87.97795836329276,90.85207051876304,90.81966794908367,86.91760862936724,86.59373926716789],\"type\":\"scatter\"},{\"name\":\"Simulation 7\",\"y\":[105.87999725341795,103.4091235422922,103.57243478508046,103.04689915224316,104.68805133928372,106.06677897497046,103.58813613513526,102.60047579816327,100.83221292699331,100.28859750451598,98.03799022072143,97.95188145462946,97.73170059507501,95.95632317010393,96.88322757574647,94.69837851772981,96.12253080285261,93.94713375980108,94.42026172713189,96.0846125794929,96.62187344219555,96.358134242051,95.48563646257617,95.00027563216605,96.42664491385737,98.4101223394923,100.28444938255144,100.43987772946026,101.52801158552478,104.39307032980419,101.77838436097069,102.96122834997432,104.96901514554652,103.91820002194085,103.1272855356966,105.64995729876964,104.33462230378372,105.01890716946436,103.2854876517859,101.84716290019196,106.71954126665176,108.54625325136459,108.69343638843388,110.35855817539937,108.37428466291749,110.86186894429724,108.10455558266709,102.56098118556321,103.35836055470249,100.45636114155329,101.35883278783166,100.15485456118464,99.70352050563504,99.25295537499441,97.49624832542004,96.80151037845675,97.12381148533346,95.91283311605898,94.52935422307031,95.05172161974531,94.32437944232434,94.81892819037022,95.72593259567155,96.12906995738986,95.04305005075464,94.27473437178908,93.66182672429282,93.37335277111592,95.65872918510524,94.2157656774372,93.82782063088924,95.41998009465388,94.84240235726341,94.42053764392486,93.14505850185756,92.82170073524114,91.69184986628392,90.78492651719777,93.66688554077204,92.47570911130207,93.14145101205396,93.73054838729571,94.10247516662078,95.21555111071955,96.31700269422224,98.5055606383812,97.76963786803294,99.58994001242264,100.91843964007954,100.50689766552871,101.87154351370208,103.30567313952963,104.44036401138659,105.04502195708409,102.80318594725964,103.20382115169626,103.16126769366493,105.2741756653885,106.68663265010397,105.5113904046629,105.67723478402463,104.39823021357127,104.33744733669214,103.59121059999836,102.53886644180484,105.49085979768256,107.28240486330189,110.04385955032348,109.44492418467485,109.44391505684403,108.24722945297779,107.73261322450051,111.77639830050049,111.29932734588378,111.1078087645964,111.96848826471376,108.5756088464959,109.49212522382906,109.07972722252141,108.69512872796463,106.96786902633451,109.05539291057052,108.56697807594406,109.49444417694856,110.96773544104215,112.07859278876515,112.5615781929618,115.35531278387661,113.9606412793336,114.80221001993156,116.5009589103664,114.09624420512482,116.16206742480665,115.97502032085893,113.68297620930109,114.15663029431029,117.82299583572667,119.18366367526711,119.43001423404493,118.55827991637119,119.15165541029317,118.91938580971603,115.64952338585601,111.97776315052356,110.6689026411749,110.58847032823057,109.8975455491353,107.8343407005662,106.9403015456067,108.0096700352906,107.81489219578098,105.14006124738783,106.04292742264768,105.60468286318958,104.18739133573564,106.10980472136748,107.33295202886812,105.63827923435211,104.99751502474112,104.59620631569305,103.74849632265511,106.092989077713,108.2383817932914,109.35095283410315,111.38321980231946,112.54266286162081,114.15128704074928,113.75448086164627,111.9321733727841,110.17704064410675,109.32721296271738,109.99400170475725,107.30802392255943,101.7794548084825,103.04494963150854,104.52767857917318,105.88741588429417,104.83490634918968,103.23300348221495,103.67605061154629,103.9600522550306,104.33876864297672,102.81923821516281,105.88815402843642,105.66208604878868,105.01408660411583,106.85498148469892,106.82370807686694,105.07424649102197,105.52280296082053,105.60650754936576,105.21826700245339,99.6684154367173,100.02941859528397,97.88003393962094,95.72719139036641,96.56668950227278,97.16504688679875,96.28021217265803,95.97479019526018,95.75600542665961,96.38382528741805,97.30535145569841,95.73163181261383,98.46654380405025,99.95936154008292,99.34316578706562,98.80208461151555,97.50013345292939,95.58936610266154,95.31003362385796,95.14585864035439,94.07255475143442,92.11740115746326,91.39919863526913,92.51069526602983,90.7923026822347,89.94189809537444,93.84888148738361,95.05050600505183,96.16304631573385,95.51963220672576,96.30903797375029,93.55491298601363,94.99733077859878,94.9345900277018,96.15281719665691,96.08151407624129,95.60684422292482,95.94377568350217,100.07314222574973,99.90440467800725,99.07102312624173,99.11502038855411,100.89825299663416,102.20852396198563,103.06866376161011,104.45997932183901,103.38607150592901,106.17173695291454,104.6654136663687,105.67574823167531,108.30928892101308,107.82215087749034,107.36343895459976,105.70021720806356],\"type\":\"scatter\"},{\"name\":\"Simulation 8\",\"y\":[105.87999725341795,107.15233840477372,109.43550818264332,112.54094890988084,111.80587620564235,110.59051746294661,113.14122065142317,116.75071186465513,119.70972027344709,119.0656243369968,120.6378420187245,121.07911116707072,122.70601053456213,122.05669249376459,122.67874808141974,120.11191162113855,119.49362212195585,119.57312866141483,122.30855170234622,118.28995219040783,118.33321531763826,122.66083293195912,120.49423223705325,119.91513920150159,122.28177263670975,120.07787284448827,118.99587217185807,117.78848537850227,118.77744327766628,122.94355092392139,122.15715534425483,119.98125955172446,116.61621325574806,115.07922515120775,114.39423503883043,116.63592817487572,116.56955129146428,117.22373143001107,117.3763911315617,118.83265630467747,118.39201600123417,116.73211904363214,117.81087877797131,118.57708024299347,115.72280751031258,114.70066807297316,113.05237384165001,111.1849713880334,112.8990478839418,114.16191307670762,114.13075852402183,113.68957183736822,112.49007724154518,112.57247837980823,109.88109811189645,108.90858719691407,107.36957709689267,109.15551187818292,109.60984947321353,105.72730465683759,105.38138794940718,108.58082009935706,106.04149332787743,104.81148949609634,104.90948193374204,105.66329317102132,108.46906327649548,108.70495989758261,108.4057932695606,108.3037112131571,106.70414642624642,103.4907984255216,103.98414335677764,102.37429654810477,104.63810442253839,105.22314601785403,104.8629087583374,105.56292080200144,106.36747583674116,108.34942010004136,109.17940750939547,110.62449156333845,108.36346517269864,109.91261423958635,108.48919238330065,108.49998340791535,112.26939148061713,112.72634883440979,112.27972429571746,113.12932154125743,113.44492198443679,115.3774421581519,114.37160279143406,114.38868914598876,111.67933988732851,110.48535536686083,108.15519281951339,104.33564948331856,101.37430067318277,103.78229609216739,103.41243147628866,103.2380420566191,103.24463134358348,103.25534235353925,103.79607788458296,103.22080778985959,102.57628444389826,100.13405797008414,98.21285113010482,99.05583544854481,98.23216241753208,98.77402774689565,97.8336109973023,97.90399956270451,96.7252125091191,96.22612347550007,93.41713237058859,94.81514087086025,96.0004834402993,95.55267458607172,96.0848417116894,97.4440043107624,98.02568048899987,98.8677294130019,97.49892017318695,100.30349842362617,101.7885865287028,103.35048288306801,98.39487010934779,98.94176028367751,99.67537832350284,97.888848441135,97.16024623028866,95.81179049551139,97.1441856042013,98.24648744802171,97.46984407911482,96.03874746163588,97.28588012853501,97.2690701950043,99.44055214397211,103.25598286215387,102.99318792730863,100.22669667641375,102.58300119808584,101.78485462343365,101.55638937841954,103.09076406154162,103.52186756182202,102.58810786919622,102.20140306425318,103.00607415563913,102.3581893158164,101.42860912073994,100.82989783574389,100.51487930498777,100.77839165788484,100.80868620353831,99.99881039888885,102.61378471558841,101.88669144260871,99.960502838281,98.59353924116638,99.60610908441635,99.12101279361585,98.8746743515401,98.35088786403755,99.95455527262494,100.34704431314108,101.30994755397458,103.54499104794388,105.95688304204806,105.00892783169901,104.11638029943815,104.25950939399196,103.03058909284546,102.55820888229141,103.28232237351054,104.79103691160188,103.57857911578108,101.78283964957303,101.6966663947199,102.06158440593802,100.16326957898973,99.9275097082729,100.40884522667241,102.16790171937929,102.29128732137711,105.26917139041382,105.46998295176323,103.64676472673482,104.82160108170855,107.84258398934715,106.72296181688374,107.09590911147812,109.70024909283573,110.21698107433994,107.49850189480433,106.8545032842173,107.53620523355572,109.15621931481465,108.2469709140226,107.17552581516055,106.20793074598294,106.85753167430141,108.80932495091544,107.2264799880427,108.21352435176432,108.10815556795127,104.76747055884576,104.05602661326968,104.243365043863,102.90967385204814,102.8104774844149,102.03356072797874,101.41530788789291,104.0395996105352,103.51972978569798,103.10030037219408,105.51993985074279,103.01123557664204,104.78077476589695,106.10842787444263,104.26407531134515,102.53178745585704,103.07669518198337,100.6211026140731,100.1241826071826,101.86234564120006,107.19946628214925,105.97385177259419,107.12008772908446,108.56943258108902,108.29311553917523,109.23156850038444,108.69210250110075,108.79287304987645,106.04909042075641,107.27107806777217,105.71966958893688,107.16357967025424,105.27014012922658,105.59228674691668,107.69701053956658,106.07462419694943,104.6503156651827],\"type\":\"scatter\"},{\"name\":\"Simulation 9\",\"y\":[105.87999725341795,105.81254780989683,104.7752041617566,105.78587395825858,106.29912426925297,104.58098728774527,105.41154024066972,107.23237402721297,108.12350967281986,109.49084649644686,111.43633805154705,113.64835834142161,111.83407327283638,111.71838552829637,108.38578985736925,106.37838052766102,104.28692814899252,104.57980964683964,101.85574043874637,105.79744297987423,103.88285071429993,105.10636010322779,108.57698786813053,109.89046843074604,113.48784544559273,113.5332188088849,113.67333303457602,114.68339510773475,113.34830335711337,111.9528195158186,111.82525673893208,112.17720970906849,113.52605906476613,113.89160596306024,115.46609964438217,114.51549140909216,113.70668722969415,111.4204736327666,113.54847074213359,112.43121106504758,111.22206573595216,110.85090309909367,110.24396251234948,108.31696708864625,109.26795271867091,107.68701628973133,104.64122181472722,107.8078217083569,106.52293812169698,105.96835946774445,104.79547798989788,104.17340618304279,106.17598052393548,103.45000837140617,102.56629445833876,104.8340753205698,103.84312072970472,102.87025579552159,101.46631182630306,101.30844174729599,101.33493900934715,101.17831539746503,101.92402812634089,99.16910729906546,98.43003545552399,97.63264404546318,97.69086477871639,98.08829635594407,98.93291877510624,99.93330660616634,102.18913294060236,102.04186572565337,99.68846167299291,102.25081706930311,103.73064540779538,104.62671334681824,105.94548270654536,106.18994473508278,107.44403109159295,106.23709500665728,104.5659006825196,104.72410572085685,104.45993318895854,102.89026429934329,106.4918310248819,108.384941762208,104.11101031231651,102.76971000100714,102.68347419750056,100.58146432422524,100.99761867167537,99.67344821971936,100.08506878617739,99.42184187070619,102.3111348005739,104.08921572277622,104.76840360008319,101.83284066157017,104.64804242230959,101.42413934639832,100.67968778148992,103.18614693136995,100.71759593216714,101.0846121378773,101.18691644546618,98.50776159549955,98.47909158256284,100.17071460531828,100.23613920960788,102.3945489005361,104.64826017264402,105.00089605559816,104.32248749193215,104.61360480483673,102.21017101730307,106.46897805315334,106.76816715206127,108.19685907745017,110.0268268907797,113.6862652538733,112.24017104864217,110.21778978985272,110.35750555474888,108.07511301132267,110.4758619197603,111.38991364702247,110.12713985209979,110.61175093508534,111.0735774286225,113.18971777853037,114.11322667555206,113.95921204438916,112.98391272978603,115.26665425506167,116.75867808440147,115.80596172480918,118.00682109634022,116.7434058481764,113.95678458374428,111.68260694175605,112.82565275166397,113.45552162289498,110.83212712431875,109.07305864208757,108.39625063554186,108.89363216590856,111.21859508545805,110.49311836396173,111.50628748947169,111.52459661055556,110.24297744893073,110.93674458507891,111.2241395109743,110.35618765742578,110.36558814468633,108.92400459328096,106.56094470148574,105.05754037779977,103.83014316062373,102.33044417413234,100.70862772635574,99.97235547856954,100.86463276548722,102.71713270707745,100.28095163324373,98.81193745477808,97.84622600720614,98.6185333010429,99.27741451010618,101.30600235958947,102.44784992888732,102.66261825453601,102.37377608628756,104.60645192185808,104.57107633219944,105.1842142482781,101.47055888909918,100.70539747562664,100.56830742686907,99.90864224328566,99.34546025744474,97.9688131183078,97.5602410531837,96.10044746367156,93.9593493799208,93.0724170638284,95.71094658274204,95.94597641466632,97.3913531990389,97.108000404698,94.66161759684219,93.16434060074852,92.79111173408194,92.72300155954991,93.31804955356125,93.93980085597052,96.52948606479224,99.10389383978193,99.78913609764082,101.66168116293608,97.7314994423795,98.36773509827275,101.5227442311426,99.21465899781498,100.28605075396743,99.99284888600265,100.75478267803751,100.2661128672991,101.74159740260372,101.31593917335037,101.30273678576293,101.6113406969664,99.93381744338382,98.08284812730562,98.1225736300027,98.859453482821,98.88181689863548,98.55020250968367,99.29820661983568,96.97967247026017,95.58011810377859,97.05056096459528,97.16939606313161,97.24702648176122,96.087082144215,98.50528993104213,99.73265556864374,99.46556704558213,102.09540145899145,103.79684457124466,105.07339601411547,104.24878937683667,102.57359141879022,103.31987361422478,104.22279778911388,105.00443601946176,102.5392608416353,103.89931016659433,105.49318579930218,106.22252623691368,104.87515540059576,103.71291783689973,103.31469234367142,105.4424178339065,103.3921442702692,102.46852942035433],\"type\":\"scatter\"}],                        {\"template\":{\"data\":{\"bar\":[{\"error_x\":{\"color\":\"#2a3f5f\"},\"error_y\":{\"color\":\"#2a3f5f\"},\"marker\":{\"line\":{\"color\":\"#E5ECF6\",\"width\":0.5},\"pattern\":{\"fillmode\":\"overlay\",\"size\":10,\"solidity\":0.2}},\"type\":\"bar\"}],\"barpolar\":[{\"marker\":{\"line\":{\"color\":\"#E5ECF6\",\"width\":0.5},\"pattern\":{\"fillmode\":\"overlay\",\"size\":10,\"solidity\":0.2}},\"type\":\"barpolar\"}],\"carpet\":[{\"aaxis\":{\"endlinecolor\":\"#2a3f5f\",\"gridcolor\":\"white\",\"linecolor\":\"white\",\"minorgridcolor\":\"white\",\"startlinecolor\":\"#2a3f5f\"},\"baxis\":{\"endlinecolor\":\"#2a3f5f\",\"gridcolor\":\"white\",\"linecolor\":\"white\",\"minorgridcolor\":\"white\",\"startlinecolor\":\"#2a3f5f\"},\"type\":\"carpet\"}],\"choropleth\":[{\"colorbar\":{\"outlinewidth\":0,\"ticks\":\"\"},\"type\":\"choropleth\"}],\"contour\":[{\"colorbar\":{\"outlinewidth\":0,\"ticks\":\"\"},\"colorscale\":[[0.0,\"#0d0887\"],[0.1111111111111111,\"#46039f\"],[0.2222222222222222,\"#7201a8\"],[0.3333333333333333,\"#9c179e\"],[0.4444444444444444,\"#bd3786\"],[0.5555555555555556,\"#d8576b\"],[0.6666666666666666,\"#ed7953\"],[0.7777777777777778,\"#fb9f3a\"],[0.8888888888888888,\"#fdca26\"],[1.0,\"#f0f921\"]],\"type\":\"contour\"}],\"contourcarpet\":[{\"colorbar\":{\"outlinewidth\":0,\"ticks\":\"\"},\"type\":\"contourcarpet\"}],\"heatmap\":[{\"colorbar\":{\"outlinewidth\":0,\"ticks\":\"\"},\"colorscale\":[[0.0,\"#0d0887\"],[0.1111111111111111,\"#46039f\"],[0.2222222222222222,\"#7201a8\"],[0.3333333333333333,\"#9c179e\"],[0.4444444444444444,\"#bd3786\"],[0.5555555555555556,\"#d8576b\"],[0.6666666666666666,\"#ed7953\"],[0.7777777777777778,\"#fb9f3a\"],[0.8888888888888888,\"#fdca26\"],[1.0,\"#f0f921\"]],\"type\":\"heatmap\"}],\"heatmapgl\":[{\"colorbar\":{\"outlinewidth\":0,\"ticks\":\"\"},\"colorscale\":[[0.0,\"#0d0887\"],[0.1111111111111111,\"#46039f\"],[0.2222222222222222,\"#7201a8\"],[0.3333333333333333,\"#9c179e\"],[0.4444444444444444,\"#bd3786\"],[0.5555555555555556,\"#d8576b\"],[0.6666666666666666,\"#ed7953\"],[0.7777777777777778,\"#fb9f3a\"],[0.8888888888888888,\"#fdca26\"],[1.0,\"#f0f921\"]],\"type\":\"heatmapgl\"}],\"histogram\":[{\"marker\":{\"pattern\":{\"fillmode\":\"overlay\",\"size\":10,\"solidity\":0.2}},\"type\":\"histogram\"}],\"histogram2d\":[{\"colorbar\":{\"outlinewidth\":0,\"ticks\":\"\"},\"colorscale\":[[0.0,\"#0d0887\"],[0.1111111111111111,\"#46039f\"],[0.2222222222222222,\"#7201a8\"],[0.3333333333333333,\"#9c179e\"],[0.4444444444444444,\"#bd3786\"],[0.5555555555555556,\"#d8576b\"],[0.6666666666666666,\"#ed7953\"],[0.7777777777777778,\"#fb9f3a\"],[0.8888888888888888,\"#fdca26\"],[1.0,\"#f0f921\"]],\"type\":\"histogram2d\"}],\"histogram2dcontour\":[{\"colorbar\":{\"outlinewidth\":0,\"ticks\":\"\"},\"colorscale\":[[0.0,\"#0d0887\"],[0.1111111111111111,\"#46039f\"],[0.2222222222222222,\"#7201a8\"],[0.3333333333333333,\"#9c179e\"],[0.4444444444444444,\"#bd3786\"],[0.5555555555555556,\"#d8576b\"],[0.6666666666666666,\"#ed7953\"],[0.7777777777777778,\"#fb9f3a\"],[0.8888888888888888,\"#fdca26\"],[1.0,\"#f0f921\"]],\"type\":\"histogram2dcontour\"}],\"mesh3d\":[{\"colorbar\":{\"outlinewidth\":0,\"ticks\":\"\"},\"type\":\"mesh3d\"}],\"parcoords\":[{\"line\":{\"colorbar\":{\"outlinewidth\":0,\"ticks\":\"\"}},\"type\":\"parcoords\"}],\"pie\":[{\"automargin\":true,\"type\":\"pie\"}],\"scatter\":[{\"marker\":{\"colorbar\":{\"outlinewidth\":0,\"ticks\":\"\"}},\"type\":\"scatter\"}],\"scatter3d\":[{\"line\":{\"colorbar\":{\"outlinewidth\":0,\"ticks\":\"\"}},\"marker\":{\"colorbar\":{\"outlinewidth\":0,\"ticks\":\"\"}},\"type\":\"scatter3d\"}],\"scattercarpet\":[{\"marker\":{\"colorbar\":{\"outlinewidth\":0,\"ticks\":\"\"}},\"type\":\"scattercarpet\"}],\"scattergeo\":[{\"marker\":{\"colorbar\":{\"outlinewidth\":0,\"ticks\":\"\"}},\"type\":\"scattergeo\"}],\"scattergl\":[{\"marker\":{\"colorbar\":{\"outlinewidth\":0,\"ticks\":\"\"}},\"type\":\"scattergl\"}],\"scattermapbox\":[{\"marker\":{\"colorbar\":{\"outlinewidth\":0,\"ticks\":\"\"}},\"type\":\"scattermapbox\"}],\"scatterpolar\":[{\"marker\":{\"colorbar\":{\"outlinewidth\":0,\"ticks\":\"\"}},\"type\":\"scatterpolar\"}],\"scatterpolargl\":[{\"marker\":{\"colorbar\":{\"outlinewidth\":0,\"ticks\":\"\"}},\"type\":\"scatterpolargl\"}],\"scatterternary\":[{\"marker\":{\"colorbar\":{\"outlinewidth\":0,\"ticks\":\"\"}},\"type\":\"scatterternary\"}],\"surface\":[{\"colorbar\":{\"outlinewidth\":0,\"ticks\":\"\"},\"colorscale\":[[0.0,\"#0d0887\"],[0.1111111111111111,\"#46039f\"],[0.2222222222222222,\"#7201a8\"],[0.3333333333333333,\"#9c179e\"],[0.4444444444444444,\"#bd3786\"],[0.5555555555555556,\"#d8576b\"],[0.6666666666666666,\"#ed7953\"],[0.7777777777777778,\"#fb9f3a\"],[0.8888888888888888,\"#fdca26\"],[1.0,\"#f0f921\"]],\"type\":\"surface\"}],\"table\":[{\"cells\":{\"fill\":{\"color\":\"#EBF0F8\"},\"line\":{\"color\":\"white\"}},\"header\":{\"fill\":{\"color\":\"#C8D4E3\"},\"line\":{\"color\":\"white\"}},\"type\":\"table\"}]},\"layout\":{\"annotationdefaults\":{\"arrowcolor\":\"#2a3f5f\",\"arrowhead\":0,\"arrowwidth\":1},\"autotypenumbers\":\"strict\",\"coloraxis\":{\"colorbar\":{\"outlinewidth\":0,\"ticks\":\"\"}},\"colorscale\":{\"diverging\":[[0,\"#8e0152\"],[0.1,\"#c51b7d\"],[0.2,\"#de77ae\"],[0.3,\"#f1b6da\"],[0.4,\"#fde0ef\"],[0.5,\"#f7f7f7\"],[0.6,\"#e6f5d0\"],[0.7,\"#b8e186\"],[0.8,\"#7fbc41\"],[0.9,\"#4d9221\"],[1,\"#276419\"]],\"sequential\":[[0.0,\"#0d0887\"],[0.1111111111111111,\"#46039f\"],[0.2222222222222222,\"#7201a8\"],[0.3333333333333333,\"#9c179e\"],[0.4444444444444444,\"#bd3786\"],[0.5555555555555556,\"#d8576b\"],[0.6666666666666666,\"#ed7953\"],[0.7777777777777778,\"#fb9f3a\"],[0.8888888888888888,\"#fdca26\"],[1.0,\"#f0f921\"]],\"sequentialminus\":[[0.0,\"#0d0887\"],[0.1111111111111111,\"#46039f\"],[0.2222222222222222,\"#7201a8\"],[0.3333333333333333,\"#9c179e\"],[0.4444444444444444,\"#bd3786\"],[0.5555555555555556,\"#d8576b\"],[0.6666666666666666,\"#ed7953\"],[0.7777777777777778,\"#fb9f3a\"],[0.8888888888888888,\"#fdca26\"],[1.0,\"#f0f921\"]]},\"colorway\":[\"#636efa\",\"#EF553B\",\"#00cc96\",\"#ab63fa\",\"#FFA15A\",\"#19d3f3\",\"#FF6692\",\"#B6E880\",\"#FF97FF\",\"#FECB52\"],\"font\":{\"color\":\"#2a3f5f\"},\"geo\":{\"bgcolor\":\"white\",\"lakecolor\":\"white\",\"landcolor\":\"#E5ECF6\",\"showlakes\":true,\"showland\":true,\"subunitcolor\":\"white\"},\"hoverlabel\":{\"align\":\"left\"},\"hovermode\":\"closest\",\"mapbox\":{\"style\":\"light\"},\"paper_bgcolor\":\"white\",\"plot_bgcolor\":\"#E5ECF6\",\"polar\":{\"angularaxis\":{\"gridcolor\":\"white\",\"linecolor\":\"white\",\"ticks\":\"\"},\"bgcolor\":\"#E5ECF6\",\"radialaxis\":{\"gridcolor\":\"white\",\"linecolor\":\"white\",\"ticks\":\"\"}},\"scene\":{\"xaxis\":{\"backgroundcolor\":\"#E5ECF6\",\"gridcolor\":\"white\",\"gridwidth\":2,\"linecolor\":\"white\",\"showbackground\":true,\"ticks\":\"\",\"zerolinecolor\":\"white\"},\"yaxis\":{\"backgroundcolor\":\"#E5ECF6\",\"gridcolor\":\"white\",\"gridwidth\":2,\"linecolor\":\"white\",\"showbackground\":true,\"ticks\":\"\",\"zerolinecolor\":\"white\"},\"zaxis\":{\"backgroundcolor\":\"#E5ECF6\",\"gridcolor\":\"white\",\"gridwidth\":2,\"linecolor\":\"white\",\"showbackground\":true,\"ticks\":\"\",\"zerolinecolor\":\"white\"}},\"shapedefaults\":{\"line\":{\"color\":\"#2a3f5f\"}},\"ternary\":{\"aaxis\":{\"gridcolor\":\"white\",\"linecolor\":\"white\",\"ticks\":\"\"},\"baxis\":{\"gridcolor\":\"white\",\"linecolor\":\"white\",\"ticks\":\"\"},\"bgcolor\":\"#E5ECF6\",\"caxis\":{\"gridcolor\":\"white\",\"linecolor\":\"white\",\"ticks\":\"\"}},\"title\":{\"x\":0.05},\"xaxis\":{\"automargin\":true,\"gridcolor\":\"white\",\"linecolor\":\"white\",\"ticks\":\"\",\"title\":{\"standoff\":15},\"zerolinecolor\":\"white\",\"zerolinewidth\":2},\"yaxis\":{\"automargin\":true,\"gridcolor\":\"white\",\"linecolor\":\"white\",\"ticks\":\"\",\"title\":{\"standoff\":15},\"zerolinecolor\":\"white\",\"zerolinewidth\":2}}},\"xaxis\":{\"anchor\":\"y\",\"domain\":[0.0,1.0]},\"yaxis\":{\"anchor\":\"x\",\"domain\":[0.0,1.0]},\"legend\":{\"tracegroupgap\":0},\"title\":{\"text\":\"Future Stock Prices - Simulations\"}},                        {\"responsive\": true}                    ).then(function(){\n",
              "                            \n",
              "var gd = document.getElementById('2d458d1d-306e-43ce-8954-a7112fa3eb4e');\n",
              "var x = new MutationObserver(function (mutations, observer) {{\n",
              "        var display = window.getComputedStyle(gd).display;\n",
              "        if (!display || display === 'none') {{\n",
              "            console.log([gd, 'removed!']);\n",
              "            Plotly.purge(gd);\n",
              "            observer.disconnect();\n",
              "        }}\n",
              "}});\n",
              "\n",
              "// Listen for the removal of the full notebook cells\n",
              "var notebookContainer = gd.closest('#notebook-container');\n",
              "if (notebookContainer) {{\n",
              "    x.observe(notebookContainer, {childList: true});\n",
              "}}\n",
              "\n",
              "// Listen for the clearing of the current output cell\n",
              "var outputEl = gd.closest('.output');\n",
              "if (outputEl) {{\n",
              "    x.observe(outputEl, {childList: true});\n",
              "}}\n",
              "\n",
              "                        })                };                            </script>        </div>\n",
              "</body>\n",
              "</html>"
            ]
          },
          "metadata": {}
        }
      ]
    },
    {
      "cell_type": "code",
      "source": [
        "# Looks for the best simulation outcome\n",
        "\n",
        "best_simulation = predictions[:][-1].max()\n",
        "best_simulation"
      ],
      "metadata": {
        "colab": {
          "base_uri": "https://localhost:8080/"
        },
        "id": "cfD7YoiP59E7",
        "outputId": "4184da98-7cc9-49f3-b2be-a08fbdfeb5ae"
      },
      "execution_count": 56,
      "outputs": [
        {
          "output_type": "execute_result",
          "data": {
            "text/plain": [
              "138.56726871689173"
            ]
          },
          "metadata": {},
          "execution_count": 56
        }
      ]
    },
    {
      "cell_type": "code",
      "source": [
        "# Looks for the worst simulation outcome\n",
        "\n",
        "worst_simulation = predictions[:][-1].min()\n",
        "worst_simulation"
      ],
      "metadata": {
        "colab": {
          "base_uri": "https://localhost:8080/"
        },
        "id": "ZjNICWa77fVf",
        "outputId": "2ff786ee-5c6d-487c-8ec1-ccd6aa15b2fb"
      },
      "execution_count": 57,
      "outputs": [
        {
          "output_type": "execute_result",
          "data": {
            "text/plain": [
              "86.59373926716789"
            ]
          },
          "metadata": {},
          "execution_count": 57
        }
      ]
    },
    {
      "cell_type": "code",
      "source": [
        "# Looks for the best and worst simulation indexes\n",
        "\n",
        "for i, b in enumerate(predictions[:][-1]):\n",
        "  #print(i, b)\n",
        "  if b == best_simulation:\n",
        "    best_index = i\n",
        "  elif b == worst_simulation:\n",
        "    worst_index = i\n",
        "\n",
        "print(best_index, worst_index)"
      ],
      "metadata": {
        "colab": {
          "base_uri": "https://localhost:8080/"
        },
        "id": "XGVlUXxq7yuH",
        "outputId": "38e4d7d6-e3a0-4496-b60b-80231676c33c"
      },
      "execution_count": 65,
      "outputs": [
        {
          "output_type": "stream",
          "name": "stdout",
          "text": [
            "0 6\n"
          ]
        }
      ]
    },
    {
      "cell_type": "code",
      "source": [
        "#Plots the best and the worst simulations\n",
        "\n",
        "figura = px.line(title = 'Future Stock Prices - Simulations')\n",
        "\n",
        "figura.add_scatter(y = predictions.T[worst_index], name = f'Worst Simulation')\n",
        "figura.add_scatter(y = predictions.T[best_index], name = f'Best Simulation')\n",
        "\n",
        "figura.show()"
      ],
      "metadata": {
        "colab": {
          "base_uri": "https://localhost:8080/",
          "height": 542
        },
        "id": "H2WgsXEJ5U13",
        "outputId": "e345e6b3-64ac-47a0-91b5-b5ed8f17cd0b"
      },
      "execution_count": 66,
      "outputs": [
        {
          "output_type": "display_data",
          "data": {
            "text/html": [
              "<html>\n",
              "<head><meta charset=\"utf-8\" /></head>\n",
              "<body>\n",
              "    <div>            <script src=\"https://cdnjs.cloudflare.com/ajax/libs/mathjax/2.7.5/MathJax.js?config=TeX-AMS-MML_SVG\"></script><script type=\"text/javascript\">if (window.MathJax) {MathJax.Hub.Config({SVG: {font: \"STIX-Web\"}});}</script>                <script type=\"text/javascript\">window.PlotlyConfig = {MathJaxConfig: 'local'};</script>\n",
              "        <script src=\"https://cdn.plot.ly/plotly-2.8.3.min.js\"></script>                <div id=\"7937c2fd-cbfb-4e5a-b3d4-4fa0a9fdf724\" class=\"plotly-graph-div\" style=\"height:525px; width:100%;\"></div>            <script type=\"text/javascript\">                                    window.PLOTLYENV=window.PLOTLYENV || {};                                    if (document.getElementById(\"7937c2fd-cbfb-4e5a-b3d4-4fa0a9fdf724\")) {                    Plotly.newPlot(                        \"7937c2fd-cbfb-4e5a-b3d4-4fa0a9fdf724\",                        [{\"name\":\"Worst Simulation\",\"y\":[105.87999725341795,105.9520686916135,107.88399879705246,107.60542954482167,106.95580142411126,107.22427152706534,103.63755262001754,103.88842142980081,104.27775595505172,104.46589942355486,103.2037811083746,103.01449657620974,99.22272424576502,96.39752450639087,95.34646487522534,97.13584477952003,97.14808258983753,94.01169434744487,94.37789171397509,93.32668337925486,92.1923286214741,90.8295047436853,92.40707945783588,94.24075968777588,91.11524482011129,91.80646487730051,92.44029257345709,91.87634813737337,93.16808781348414,94.25915154838644,95.30017991380674,96.79467633692563,94.76748265690581,92.56840533417181,91.06752343767742,93.43231086306517,96.00059762956847,97.3004351039464,98.52968922894937,97.36473134716154,98.51409154586163,98.46761645163204,100.63157031481593,99.92041007532367,102.69629336206532,102.84764527076669,98.5482968974844,99.73380018467876,101.28906334645735,103.88598731918566,103.95749782237208,103.54439121248885,103.63673928129329,105.70615548589109,106.52248582098392,106.10463468630809,107.05648428177649,106.2379071786705,107.76646046745458,109.5623759653526,110.22461048017577,108.58342891771477,108.14472040882444,110.67238596461151,110.23596408145096,109.33905088327947,107.06133696547177,107.0335469203657,107.00597586189238,107.53701824554588,105.30629845108425,106.80437725105324,108.97111684825573,108.40879119293723,108.14142174857972,106.8825724567155,107.09721435331066,109.33255114273757,109.25423960763999,107.51270857606394,108.24142411762702,109.85972949082243,110.15670495917021,110.53913164132113,111.22785720005963,110.66347722421357,113.28468385570952,110.48935364186036,111.18582606579098,109.0629182096354,107.3782469476273,106.66352763708527,106.19730474724184,106.12539287119827,106.15401923372755,107.56029150722958,107.16612350165927,108.81767932593154,107.45184988332677,107.94075234725632,107.02794038366432,106.00404571257289,107.30134094212592,106.11441748325554,104.71135482825942,103.13237598221865,102.83727223597974,100.94569601404729,103.38225930017992,101.95694945168806,103.62085986792404,100.51103933575162,99.81636014040306,100.81077905887986,97.29290396136034,96.87451088040932,97.55386947259535,98.09189686769884,97.01118378152886,96.49798949584749,98.3593482505709,96.70102093095771,95.29868268753174,94.28660638291353,94.4080557794055,92.66897466384562,92.63889456190894,92.0388862732966,92.53478658671185,91.83834385951333,91.70613273522885,92.28187924453795,90.1489433107923,91.87155112823679,92.47432241597308,91.73891817733399,91.25484692491806,90.84744367520248,91.78093901088286,94.5861366953145,92.34680586698364,93.57080164780673,95.4615979535289,95.4965962240844,92.76163901436395,93.18924613968575,93.572663516983,92.43459211269807,94.03524923864912,94.05584877708635,93.04017387586039,93.18524299773432,92.09548869830401,90.79509482259856,91.32111729079874,93.05971089380252,92.61643667941895,92.29908586365153,93.54763078319027,92.76666388063708,93.0749994250298,94.2206916788989,94.52580805348231,95.95581086439667,95.50906615131784,94.10954068863246,96.01186682107681,96.73986635329585,98.98868579031242,97.14678607348297,97.13066498598346,95.59189500638595,97.93574778005417,94.64225247887424,94.62724238366533,93.88493318337684,91.18086055571742,93.21249652199597,90.37661444651712,92.86919031335421,92.47857667448591,91.97531485465026,92.63391778795383,91.32246446187568,88.52819866458934,88.0620831575423,85.72236051463364,85.83877406231275,86.13532563627587,87.85527126700538,88.00786538725863,88.0258127271046,87.29832822084867,87.58824926052763,87.41413713399618,88.92308117850752,90.69824603802756,90.77337780513868,90.79139064786686,91.60272972433938,92.0217423295496,94.67289423814348,93.28052168298065,95.42247567505957,95.54618611763868,94.87458916511599,93.48403057397641,91.12261840503226,92.00964164245156,89.98452872467682,87.67496908835017,87.10309896557393,87.59167741645489,86.50887187702558,86.38863683522705,89.20054057890422,88.47800657712627,90.11814842694912,91.55019083012253,90.773265376139,93.37970764984279,93.30835764660797,95.49067992365637,93.7630279788249,94.98950820517504,92.10654620766606,91.43023690756473,91.28913224406126,91.16819092563196,90.38560282455754,90.47131859646333,89.1476094507027,88.5673671280214,88.72375610619362,89.70032604233782,91.0944063131125,89.95437247232334,89.44306884025379,88.85295236171807,89.41022630985347,89.84592661144617,87.97795836329276,90.85207051876304,90.81966794908367,86.91760862936724,86.59373926716789],\"type\":\"scatter\"},{\"name\":\"Best Simulation\",\"y\":[105.87999725341795,107.63502180585401,109.40766728395289,109.11462779401343,108.31903075119169,108.15832232367336,108.1182364986356,107.16109843355576,105.14843728946029,104.70080809257638,104.30649713124355,102.58131363710065,101.91171628166245,105.29176024706697,106.19146284171097,105.9193089193125,107.93595297984182,107.80572334931972,105.42246908200349,103.60199393753257,104.39950414262987,104.92672687625685,105.8173208093398,106.28190436137736,104.80637884860577,105.41225070353073,104.86580333830346,106.41882110103374,108.01332775973168,108.18649927515139,108.0767448734816,107.74005783435297,105.52754938406868,105.7217676003752,101.75683220669036,102.31087523902372,103.01661379739772,104.00080594103913,104.990303508995,106.71290089431152,105.38843792086533,105.2183279710517,107.74617100725997,110.61387471176666,114.44926329310104,114.55435231728809,115.82891584140981,115.17552877148867,116.87374481857485,116.54858252167222,117.15925927089444,117.35704517961024,118.14380114170542,115.42832369384585,114.1591736380748,112.2882939874592,111.11666920478015,110.05558442400579,107.80753334788359,105.1487025898676,104.2947367632147,104.7174173385084,103.2835604584151,106.35733069011692,106.60566032849654,110.83405623136898,110.31990710007581,110.98114519163535,111.24957769110418,111.7277572118216,112.53346640666665,114.52345473885431,116.51919878215372,118.69368673168708,116.24769560681703,116.65080178535217,115.57003340509088,116.6642166291592,116.4434647561227,111.96587025395691,112.29377561180533,113.04441508313951,114.33921581602841,116.81647425090723,117.23198734398612,116.38336814950155,115.83884247970552,116.44421439456508,118.21143249175782,120.62230010048359,121.86989049345195,122.55980695866164,120.92830494616342,119.52915378629247,117.15341364780716,120.1550429994143,123.38300461228452,124.215403096219,124.06504204335947,124.96223759613432,125.39693640043542,131.31621631303886,130.336534589719,130.41155954506576,133.18855105283853,132.37986124315626,132.85316695666066,132.74296759221625,130.19338118323302,127.11236497816529,126.68429130192129,125.16513994000911,125.74241334343778,126.85007055926323,124.22617710799231,125.78498377932145,131.92032995445365,135.1187418865327,134.12535183001557,135.384417904916,138.7226068495689,135.81316048090872,134.26575216973572,131.7969410627613,126.91676149491552,127.61258930039988,126.45523859614751,128.21259388927865,132.30129161594525,129.78481058756395,132.8533889247944,129.35657109813212,130.80683884855108,130.79927063248297,135.00342990870206,135.86648424770124,138.82232014527438,139.88042420859009,137.24841117640298,134.5415114185418,134.26586585422223,131.95914870044535,130.74676405096668,129.00510931244983,131.03630934638156,126.54364994793562,123.58540872714104,123.70676025213545,123.04175931291378,120.871093233915,121.7133098062429,123.33717738155057,122.79929200256119,124.68178187267524,123.10003361541052,124.68568028404151,125.52764036891634,127.90774875011843,129.23184587730893,127.45001154675315,125.67245596124367,129.26192564168238,126.22461425203103,128.01270536516725,126.07228872259483,125.62584082675721,126.09568689738721,129.84316787944735,129.50889229660504,130.33761544899946,128.8193619061475,124.585141018511,126.72227987387019,128.37257260759716,127.30926574553422,123.24825299210946,122.95191831502773,124.87920465068986,121.4833435668279,119.75353094323806,121.53739979606418,123.31554008160482,119.47123328494669,119.76463773005362,120.79367419733613,121.55877708966324,123.57754403578866,120.08280971010097,120.32314483379245,123.09411013449939,121.9602288350909,125.49028898026029,124.12347403973098,126.14846969594439,125.79683502016745,126.08521427876005,127.98174869065383,127.71236293118677,130.83771339914986,129.2363293430374,132.0169138377609,131.67436858008452,131.16157155002426,135.15825666511338,132.0132231730408,130.10495855739603,131.80727676883131,131.17937870993063,130.70561547047592,132.85639654215345,130.97533578647045,130.0344726512141,131.01474919272445,132.59447951823805,136.89950888162258,138.2262080453685,140.26256174474602,140.99860135683693,140.9184338593352,140.94385833638333,138.25434933038702,144.66711308026137,143.55722701928195,146.1733416472463,148.47111571603037,147.81242498123464,149.08597825693786,148.40848847477585,147.91129872581197,145.66281835354292,145.82375530764642,147.18905547893195,147.62939988089323,146.5775798011562,143.7442407215407,144.46501516993308,145.03037937256764,143.77419527765207,142.16691696993857,144.36910254441193,143.74620637881176,140.74118382314958,138.47973502575914,141.86865221808858,142.41411634098873,138.56726871689173],\"type\":\"scatter\"}],                        {\"template\":{\"data\":{\"bar\":[{\"error_x\":{\"color\":\"#2a3f5f\"},\"error_y\":{\"color\":\"#2a3f5f\"},\"marker\":{\"line\":{\"color\":\"#E5ECF6\",\"width\":0.5},\"pattern\":{\"fillmode\":\"overlay\",\"size\":10,\"solidity\":0.2}},\"type\":\"bar\"}],\"barpolar\":[{\"marker\":{\"line\":{\"color\":\"#E5ECF6\",\"width\":0.5},\"pattern\":{\"fillmode\":\"overlay\",\"size\":10,\"solidity\":0.2}},\"type\":\"barpolar\"}],\"carpet\":[{\"aaxis\":{\"endlinecolor\":\"#2a3f5f\",\"gridcolor\":\"white\",\"linecolor\":\"white\",\"minorgridcolor\":\"white\",\"startlinecolor\":\"#2a3f5f\"},\"baxis\":{\"endlinecolor\":\"#2a3f5f\",\"gridcolor\":\"white\",\"linecolor\":\"white\",\"minorgridcolor\":\"white\",\"startlinecolor\":\"#2a3f5f\"},\"type\":\"carpet\"}],\"choropleth\":[{\"colorbar\":{\"outlinewidth\":0,\"ticks\":\"\"},\"type\":\"choropleth\"}],\"contour\":[{\"colorbar\":{\"outlinewidth\":0,\"ticks\":\"\"},\"colorscale\":[[0.0,\"#0d0887\"],[0.1111111111111111,\"#46039f\"],[0.2222222222222222,\"#7201a8\"],[0.3333333333333333,\"#9c179e\"],[0.4444444444444444,\"#bd3786\"],[0.5555555555555556,\"#d8576b\"],[0.6666666666666666,\"#ed7953\"],[0.7777777777777778,\"#fb9f3a\"],[0.8888888888888888,\"#fdca26\"],[1.0,\"#f0f921\"]],\"type\":\"contour\"}],\"contourcarpet\":[{\"colorbar\":{\"outlinewidth\":0,\"ticks\":\"\"},\"type\":\"contourcarpet\"}],\"heatmap\":[{\"colorbar\":{\"outlinewidth\":0,\"ticks\":\"\"},\"colorscale\":[[0.0,\"#0d0887\"],[0.1111111111111111,\"#46039f\"],[0.2222222222222222,\"#7201a8\"],[0.3333333333333333,\"#9c179e\"],[0.4444444444444444,\"#bd3786\"],[0.5555555555555556,\"#d8576b\"],[0.6666666666666666,\"#ed7953\"],[0.7777777777777778,\"#fb9f3a\"],[0.8888888888888888,\"#fdca26\"],[1.0,\"#f0f921\"]],\"type\":\"heatmap\"}],\"heatmapgl\":[{\"colorbar\":{\"outlinewidth\":0,\"ticks\":\"\"},\"colorscale\":[[0.0,\"#0d0887\"],[0.1111111111111111,\"#46039f\"],[0.2222222222222222,\"#7201a8\"],[0.3333333333333333,\"#9c179e\"],[0.4444444444444444,\"#bd3786\"],[0.5555555555555556,\"#d8576b\"],[0.6666666666666666,\"#ed7953\"],[0.7777777777777778,\"#fb9f3a\"],[0.8888888888888888,\"#fdca26\"],[1.0,\"#f0f921\"]],\"type\":\"heatmapgl\"}],\"histogram\":[{\"marker\":{\"pattern\":{\"fillmode\":\"overlay\",\"size\":10,\"solidity\":0.2}},\"type\":\"histogram\"}],\"histogram2d\":[{\"colorbar\":{\"outlinewidth\":0,\"ticks\":\"\"},\"colorscale\":[[0.0,\"#0d0887\"],[0.1111111111111111,\"#46039f\"],[0.2222222222222222,\"#7201a8\"],[0.3333333333333333,\"#9c179e\"],[0.4444444444444444,\"#bd3786\"],[0.5555555555555556,\"#d8576b\"],[0.6666666666666666,\"#ed7953\"],[0.7777777777777778,\"#fb9f3a\"],[0.8888888888888888,\"#fdca26\"],[1.0,\"#f0f921\"]],\"type\":\"histogram2d\"}],\"histogram2dcontour\":[{\"colorbar\":{\"outlinewidth\":0,\"ticks\":\"\"},\"colorscale\":[[0.0,\"#0d0887\"],[0.1111111111111111,\"#46039f\"],[0.2222222222222222,\"#7201a8\"],[0.3333333333333333,\"#9c179e\"],[0.4444444444444444,\"#bd3786\"],[0.5555555555555556,\"#d8576b\"],[0.6666666666666666,\"#ed7953\"],[0.7777777777777778,\"#fb9f3a\"],[0.8888888888888888,\"#fdca26\"],[1.0,\"#f0f921\"]],\"type\":\"histogram2dcontour\"}],\"mesh3d\":[{\"colorbar\":{\"outlinewidth\":0,\"ticks\":\"\"},\"type\":\"mesh3d\"}],\"parcoords\":[{\"line\":{\"colorbar\":{\"outlinewidth\":0,\"ticks\":\"\"}},\"type\":\"parcoords\"}],\"pie\":[{\"automargin\":true,\"type\":\"pie\"}],\"scatter\":[{\"marker\":{\"colorbar\":{\"outlinewidth\":0,\"ticks\":\"\"}},\"type\":\"scatter\"}],\"scatter3d\":[{\"line\":{\"colorbar\":{\"outlinewidth\":0,\"ticks\":\"\"}},\"marker\":{\"colorbar\":{\"outlinewidth\":0,\"ticks\":\"\"}},\"type\":\"scatter3d\"}],\"scattercarpet\":[{\"marker\":{\"colorbar\":{\"outlinewidth\":0,\"ticks\":\"\"}},\"type\":\"scattercarpet\"}],\"scattergeo\":[{\"marker\":{\"colorbar\":{\"outlinewidth\":0,\"ticks\":\"\"}},\"type\":\"scattergeo\"}],\"scattergl\":[{\"marker\":{\"colorbar\":{\"outlinewidth\":0,\"ticks\":\"\"}},\"type\":\"scattergl\"}],\"scattermapbox\":[{\"marker\":{\"colorbar\":{\"outlinewidth\":0,\"ticks\":\"\"}},\"type\":\"scattermapbox\"}],\"scatterpolar\":[{\"marker\":{\"colorbar\":{\"outlinewidth\":0,\"ticks\":\"\"}},\"type\":\"scatterpolar\"}],\"scatterpolargl\":[{\"marker\":{\"colorbar\":{\"outlinewidth\":0,\"ticks\":\"\"}},\"type\":\"scatterpolargl\"}],\"scatterternary\":[{\"marker\":{\"colorbar\":{\"outlinewidth\":0,\"ticks\":\"\"}},\"type\":\"scatterternary\"}],\"surface\":[{\"colorbar\":{\"outlinewidth\":0,\"ticks\":\"\"},\"colorscale\":[[0.0,\"#0d0887\"],[0.1111111111111111,\"#46039f\"],[0.2222222222222222,\"#7201a8\"],[0.3333333333333333,\"#9c179e\"],[0.4444444444444444,\"#bd3786\"],[0.5555555555555556,\"#d8576b\"],[0.6666666666666666,\"#ed7953\"],[0.7777777777777778,\"#fb9f3a\"],[0.8888888888888888,\"#fdca26\"],[1.0,\"#f0f921\"]],\"type\":\"surface\"}],\"table\":[{\"cells\":{\"fill\":{\"color\":\"#EBF0F8\"},\"line\":{\"color\":\"white\"}},\"header\":{\"fill\":{\"color\":\"#C8D4E3\"},\"line\":{\"color\":\"white\"}},\"type\":\"table\"}]},\"layout\":{\"annotationdefaults\":{\"arrowcolor\":\"#2a3f5f\",\"arrowhead\":0,\"arrowwidth\":1},\"autotypenumbers\":\"strict\",\"coloraxis\":{\"colorbar\":{\"outlinewidth\":0,\"ticks\":\"\"}},\"colorscale\":{\"diverging\":[[0,\"#8e0152\"],[0.1,\"#c51b7d\"],[0.2,\"#de77ae\"],[0.3,\"#f1b6da\"],[0.4,\"#fde0ef\"],[0.5,\"#f7f7f7\"],[0.6,\"#e6f5d0\"],[0.7,\"#b8e186\"],[0.8,\"#7fbc41\"],[0.9,\"#4d9221\"],[1,\"#276419\"]],\"sequential\":[[0.0,\"#0d0887\"],[0.1111111111111111,\"#46039f\"],[0.2222222222222222,\"#7201a8\"],[0.3333333333333333,\"#9c179e\"],[0.4444444444444444,\"#bd3786\"],[0.5555555555555556,\"#d8576b\"],[0.6666666666666666,\"#ed7953\"],[0.7777777777777778,\"#fb9f3a\"],[0.8888888888888888,\"#fdca26\"],[1.0,\"#f0f921\"]],\"sequentialminus\":[[0.0,\"#0d0887\"],[0.1111111111111111,\"#46039f\"],[0.2222222222222222,\"#7201a8\"],[0.3333333333333333,\"#9c179e\"],[0.4444444444444444,\"#bd3786\"],[0.5555555555555556,\"#d8576b\"],[0.6666666666666666,\"#ed7953\"],[0.7777777777777778,\"#fb9f3a\"],[0.8888888888888888,\"#fdca26\"],[1.0,\"#f0f921\"]]},\"colorway\":[\"#636efa\",\"#EF553B\",\"#00cc96\",\"#ab63fa\",\"#FFA15A\",\"#19d3f3\",\"#FF6692\",\"#B6E880\",\"#FF97FF\",\"#FECB52\"],\"font\":{\"color\":\"#2a3f5f\"},\"geo\":{\"bgcolor\":\"white\",\"lakecolor\":\"white\",\"landcolor\":\"#E5ECF6\",\"showlakes\":true,\"showland\":true,\"subunitcolor\":\"white\"},\"hoverlabel\":{\"align\":\"left\"},\"hovermode\":\"closest\",\"mapbox\":{\"style\":\"light\"},\"paper_bgcolor\":\"white\",\"plot_bgcolor\":\"#E5ECF6\",\"polar\":{\"angularaxis\":{\"gridcolor\":\"white\",\"linecolor\":\"white\",\"ticks\":\"\"},\"bgcolor\":\"#E5ECF6\",\"radialaxis\":{\"gridcolor\":\"white\",\"linecolor\":\"white\",\"ticks\":\"\"}},\"scene\":{\"xaxis\":{\"backgroundcolor\":\"#E5ECF6\",\"gridcolor\":\"white\",\"gridwidth\":2,\"linecolor\":\"white\",\"showbackground\":true,\"ticks\":\"\",\"zerolinecolor\":\"white\"},\"yaxis\":{\"backgroundcolor\":\"#E5ECF6\",\"gridcolor\":\"white\",\"gridwidth\":2,\"linecolor\":\"white\",\"showbackground\":true,\"ticks\":\"\",\"zerolinecolor\":\"white\"},\"zaxis\":{\"backgroundcolor\":\"#E5ECF6\",\"gridcolor\":\"white\",\"gridwidth\":2,\"linecolor\":\"white\",\"showbackground\":true,\"ticks\":\"\",\"zerolinecolor\":\"white\"}},\"shapedefaults\":{\"line\":{\"color\":\"#2a3f5f\"}},\"ternary\":{\"aaxis\":{\"gridcolor\":\"white\",\"linecolor\":\"white\",\"ticks\":\"\"},\"baxis\":{\"gridcolor\":\"white\",\"linecolor\":\"white\",\"ticks\":\"\"},\"bgcolor\":\"#E5ECF6\",\"caxis\":{\"gridcolor\":\"white\",\"linecolor\":\"white\",\"ticks\":\"\"}},\"title\":{\"x\":0.05},\"xaxis\":{\"automargin\":true,\"gridcolor\":\"white\",\"linecolor\":\"white\",\"ticks\":\"\",\"title\":{\"standoff\":15},\"zerolinecolor\":\"white\",\"zerolinewidth\":2},\"yaxis\":{\"automargin\":true,\"gridcolor\":\"white\",\"linecolor\":\"white\",\"ticks\":\"\",\"title\":{\"standoff\":15},\"zerolinecolor\":\"white\",\"zerolinewidth\":2}}},\"xaxis\":{\"anchor\":\"y\",\"domain\":[0.0,1.0]},\"yaxis\":{\"anchor\":\"x\",\"domain\":[0.0,1.0]},\"legend\":{\"tracegroupgap\":0},\"title\":{\"text\":\"Future Stock Prices - Simulations\"}},                        {\"responsive\": true}                    ).then(function(){\n",
              "                            \n",
              "var gd = document.getElementById('7937c2fd-cbfb-4e5a-b3d4-4fa0a9fdf724');\n",
              "var x = new MutationObserver(function (mutations, observer) {{\n",
              "        var display = window.getComputedStyle(gd).display;\n",
              "        if (!display || display === 'none') {{\n",
              "            console.log([gd, 'removed!']);\n",
              "            Plotly.purge(gd);\n",
              "            observer.disconnect();\n",
              "        }}\n",
              "}});\n",
              "\n",
              "// Listen for the removal of the full notebook cells\n",
              "var notebookContainer = gd.closest('#notebook-container');\n",
              "if (notebookContainer) {{\n",
              "    x.observe(notebookContainer, {childList: true});\n",
              "}}\n",
              "\n",
              "// Listen for the clearing of the current output cell\n",
              "var outputEl = gd.closest('.output');\n",
              "if (outputEl) {{\n",
              "    x.observe(outputEl, {childList: true});\n",
              "}}\n",
              "\n",
              "                        })                };                            </script>        </div>\n",
              "</body>\n",
              "</html>"
            ]
          },
          "metadata": {}
        }
      ]
    }
  ]
}